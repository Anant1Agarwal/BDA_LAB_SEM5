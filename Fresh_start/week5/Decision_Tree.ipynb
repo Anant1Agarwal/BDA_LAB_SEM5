{
 "cells": [
  {
   "cell_type": "code",
   "execution_count": 1,
   "id": "a22bfb1d-74b4-4114-aa4c-3212579f9fa4",
   "metadata": {},
   "outputs": [],
   "source": [
    "from pyspark.sql import SparkSession\n",
    "from pyspark.sql.functions import col\n",
    "from pyspark.sql.types import DoubleType"
   ]
  },
  {
   "cell_type": "code",
   "execution_count": 2,
   "id": "e798e2a1-f438-4276-b4da-f789285e4316",
   "metadata": {},
   "outputs": [
    {
     "name": "stderr",
     "output_type": "stream",
     "text": [
      "24/11/06 01:10:35 WARN Utils: Your hostname, Anants-MacBook-Air.local resolves to a loopback address: 127.0.0.1; using 192.168.141.67 instead (on interface en0)\n",
      "24/11/06 01:10:35 WARN Utils: Set SPARK_LOCAL_IP if you need to bind to another address\n",
      "Setting default log level to \"WARN\".\n",
      "To adjust logging level use sc.setLogLevel(newLevel). For SparkR, use setLogLevel(newLevel).\n",
      "24/11/06 01:10:35 WARN NativeCodeLoader: Unable to load native-hadoop library for your platform... using builtin-java classes where applicable\n",
      "24/11/06 01:10:36 WARN Utils: Service 'SparkUI' could not bind on port 4040. Attempting port 4041.\n",
      "24/11/06 01:10:36 WARN Utils: Service 'SparkUI' could not bind on port 4041. Attempting port 4042.\n"
     ]
    }
   ],
   "source": [
    "spark=SparkSession.builder.appName(\"Decision_Tree\").getOrCreate()"
   ]
  },
  {
   "cell_type": "markdown",
   "id": "1d9cee4b-c72f-406f-925c-dbe2581713b9",
   "metadata": {},
   "source": [
    "1) Loading Dataset"
   ]
  },
  {
   "cell_type": "code",
   "execution_count": 4,
   "id": "1763f378-5f57-4d3e-8876-be3d939652ae",
   "metadata": {},
   "outputs": [
    {
     "name": "stderr",
     "output_type": "stream",
     "text": [
      "                                                                                \r"
     ]
    },
    {
     "name": "stdout",
     "output_type": "stream",
     "text": [
      "root\n",
      " |-- _c0: string (nullable = true)\n",
      " |-- _c1: string (nullable = true)\n",
      " |-- _c2: string (nullable = true)\n",
      " |-- _c3: string (nullable = true)\n",
      " |-- _c4: string (nullable = true)\n",
      " |-- _c5: string (nullable = true)\n",
      " |-- _c6: string (nullable = true)\n",
      " |-- _c7: string (nullable = true)\n",
      " |-- _c8: string (nullable = true)\n",
      " |-- _c9: string (nullable = true)\n",
      " |-- _c10: string (nullable = true)\n",
      " |-- _c11: string (nullable = true)\n",
      " |-- _c12: string (nullable = true)\n",
      " |-- _c13: string (nullable = true)\n",
      " |-- _c14: string (nullable = true)\n",
      " |-- _c15: string (nullable = true)\n",
      " |-- _c16: string (nullable = true)\n",
      " |-- _c17: string (nullable = true)\n",
      " |-- _c18: string (nullable = true)\n",
      " |-- _c19: string (nullable = true)\n",
      " |-- _c20: string (nullable = true)\n",
      " |-- _c21: string (nullable = true)\n",
      " |-- _c22: string (nullable = true)\n",
      " |-- _c23: string (nullable = true)\n",
      " |-- _c24: string (nullable = true)\n",
      " |-- _c25: string (nullable = true)\n",
      " |-- _c26: string (nullable = true)\n",
      " |-- _c27: string (nullable = true)\n",
      " |-- _c28: string (nullable = true)\n",
      " |-- _c29: string (nullable = true)\n",
      " |-- _c30: string (nullable = true)\n",
      " |-- _c31: string (nullable = true)\n",
      " |-- _c32: string (nullable = true)\n",
      " |-- _c33: string (nullable = true)\n",
      " |-- _c34: string (nullable = true)\n",
      " |-- _c35: string (nullable = true)\n",
      " |-- _c36: string (nullable = true)\n",
      " |-- _c37: string (nullable = true)\n",
      " |-- _c38: string (nullable = true)\n",
      " |-- _c39: string (nullable = true)\n",
      " |-- _c40: string (nullable = true)\n",
      " |-- _c41: string (nullable = true)\n",
      " |-- _c42: string (nullable = true)\n",
      " |-- _c43: string (nullable = true)\n",
      " |-- _c44: string (nullable = true)\n",
      " |-- _c45: string (nullable = true)\n",
      " |-- _c46: string (nullable = true)\n",
      " |-- _c47: string (nullable = true)\n",
      " |-- _c48: string (nullable = true)\n",
      " |-- _c49: string (nullable = true)\n",
      " |-- _c50: string (nullable = true)\n",
      " |-- _c51: string (nullable = true)\n",
      " |-- _c52: string (nullable = true)\n",
      " |-- _c53: string (nullable = true)\n",
      " |-- _c54: string (nullable = true)\n",
      "\n"
     ]
    },
    {
     "name": "stderr",
     "output_type": "stream",
     "text": [
      "24/11/06 01:10:40 WARN SparkStringUtils: Truncated the string representation of a plan since it was too large. This behavior can be adjusted by setting 'spark.sql.debug.maxToStringFields'.\n"
     ]
    },
    {
     "name": "stdout",
     "output_type": "stream",
     "text": [
      "+---------+------+-----+--------------------------------+------------------------------+-------------------------------+-------------+--------------+-------------+----------------------------------+-----------------+-----------------+-----------------+-----------------+----------+----------+----------+----------+----------+----------+----------+----------+----------+-----------+-----------+-----------+-----------+-----------+-----------+-----------+-----------+-----------+-----------+-----------+-----------+-----------+-----------+-----------+-----------+-----------+-----------+-----------+-----------+-----------+-----------+-----------+-----------+-----------+-----------+-----------+-----------+-----------+-----------+-----------+----------+\n",
      "|Elevation|Aspect|Slope|Horizontal_Distance_To_Hydrology|Vertical_Distance_To_Hydrology|Horizontal_Distance_To_Roadways|Hillshade_9am|Hillshade_Noon|Hillshade_3pm|Horizontal_Distance_To_Fire_Points|Wilderness_Area_0|Wilderness_Area_1|Wilderness_Area_2|Wilderness_Area_3|Soil_Type0|Soil_Type1|Soil_Type2|Soil_Type3|Soil_Type4|Soil_Type5|Soil_Type6|Soil_Type7|Soil_Type8| Soil_Type9|Soil_Type10|Soil_Type11|Soil_Type12|Soil_Type13|Soil_Type14|Soil_Type15|Soil_Type16|Soil_Type17|Soil_Type18|Soil_Type19|Soil_Type20|Soil_Type21|Soil_Type22|Soil_Type23|Soil_Type24|Soil_Type25|Soil_Type26|Soil_Type27|Soil_Type28|Soil_Type29|Soil_Type30|Soil_Type31|Soil_Type32|Soil_Type33|Soil_Type34|Soil_Type35|Soil_Type36|Soil_Type37|Soil_Type38|Soil_Type39|Cover_Type|\n",
      "+---------+------+-----+--------------------------------+------------------------------+-------------------------------+-------------+--------------+-------------+----------------------------------+-----------------+-----------------+-----------------+-----------------+----------+----------+----------+----------+----------+----------+----------+----------+----------+-----------+-----------+-----------+-----------+-----------+-----------+-----------+-----------+-----------+-----------+-----------+-----------+-----------+-----------+-----------+-----------+-----------+-----------+-----------+-----------+-----------+-----------+-----------+-----------+-----------+-----------+-----------+-----------+-----------+-----------+-----------+----------+\n",
      "|Elevation|Aspect|Slope|            Horizontal_Distan...|          Vertical_Distance...|           Horizontal_Distan...|Hillshade_9am|Hillshade_Noon|Hillshade_3pm|              Horizontal_Distan...| Wilderness_Area1| Wilderness_Area2| Wilderness_Area3| Wilderness_Area4|Soil_Type1|Soil_Type2|Soil_Type3|Soil_Type4|Soil_Type5|Soil_Type6|Soil_Type7|Soil_Type8|Soil_Type9|Soil_Type10|Soil_Type11|Soil_Type12|Soil_Type13|Soil_Type14|Soil_Type15|Soil_Type16|Soil_Type17|Soil_Type18|Soil_Type19|Soil_Type20|Soil_Type21|Soil_Type22|Soil_Type23|Soil_Type24|Soil_Type25|Soil_Type26|Soil_Type27|Soil_Type28|Soil_Type29|Soil_Type30|Soil_Type31|Soil_Type32|Soil_Type33|Soil_Type34|Soil_Type35|Soil_Type36|Soil_Type37|Soil_Type38|Soil_Type39|Soil_Type40|      NULL|\n",
      "|     2596|    51|    3|                             258|                             0|                            510|          221|           232|          148|                              6279|                1|                0|                0|                0|         0|         0|         0|         0|         0|         0|         0|         0|         0|          0|          0|          0|          0|          0|          0|          0|          0|          0|          0|          0|          0|          0|          0|          0|          0|          0|          0|          0|          1|          0|          0|          0|          0|          0|          0|          0|          0|          0|          0|          0|       5.0|\n",
      "|     2590|    56|    2|                             212|                            -6|                            390|          220|           235|          151|                              6225|                1|                0|                0|                0|         0|         0|         0|         0|         0|         0|         0|         0|         0|          0|          0|          0|          0|          0|          0|          0|          0|          0|          0|          0|          0|          0|          0|          0|          0|          0|          0|          0|          1|          0|          0|          0|          0|          0|          0|          0|          0|          0|          0|          0|       5.0|\n",
      "|     2804|   139|    9|                             268|                            65|                           3180|          234|           238|          135|                              6121|                1|                0|                0|                0|         0|         0|         0|         0|         0|         0|         0|         0|         0|          0|          0|          1|          0|          0|          0|          0|          0|          0|          0|          0|          0|          0|          0|          0|          0|          0|          0|          0|          0|          0|          0|          0|          0|          0|          0|          0|          0|          0|          0|          0|       2.0|\n",
      "|     2785|   155|   18|                             242|                           118|                           3090|          238|           238|          122|                              6211|                1|                0|                0|                0|         0|         0|         0|         0|         0|         0|         0|         0|         0|          0|          0|          0|          0|          0|          0|          0|          0|          0|          0|          0|          0|          0|          0|          0|          0|          0|          0|          0|          0|          1|          0|          0|          0|          0|          0|          0|          0|          0|          0|          0|       2.0|\n",
      "|     2595|    45|    2|                             153|                            -1|                            391|          220|           234|          150|                              6172|                1|                0|                0|                0|         0|         0|         0|         0|         0|         0|         0|         0|         0|          0|          0|          0|          0|          0|          0|          0|          0|          0|          0|          0|          0|          0|          0|          0|          0|          0|          0|          0|          1|          0|          0|          0|          0|          0|          0|          0|          0|          0|          0|          0|       5.0|\n",
      "|     2579|   132|    6|                             300|                           -15|                             67|          230|           237|          140|                              6031|                1|                0|                0|                0|         0|         0|         0|         0|         0|         0|         0|         0|         0|          0|          0|          0|          0|          0|          0|          0|          0|          0|          0|          0|          0|          0|          0|          0|          0|          0|          0|          0|          1|          0|          0|          0|          0|          0|          0|          0|          0|          0|          0|          0|       2.0|\n",
      "|     2606|    45|    7|                             270|                             5|                            633|          222|           225|          138|                              6256|                1|                0|                0|                0|         0|         0|         0|         0|         0|         0|         0|         0|         0|          0|          0|          0|          0|          0|          0|          0|          0|          0|          0|          0|          0|          0|          0|          0|          0|          0|          0|          0|          1|          0|          0|          0|          0|          0|          0|          0|          0|          0|          0|          0|       5.0|\n",
      "|     2605|    49|    4|                             234|                             7|                            573|          222|           230|          144|                              6228|                1|                0|                0|                0|         0|         0|         0|         0|         0|         0|         0|         0|         0|          0|          0|          0|          0|          0|          0|          0|          0|          0|          0|          0|          0|          0|          0|          0|          0|          0|          0|          0|          1|          0|          0|          0|          0|          0|          0|          0|          0|          0|          0|          0|       5.0|\n",
      "|     2617|    45|    9|                             240|                            56|                            666|          223|           221|          133|                              6244|                1|                0|                0|                0|         0|         0|         0|         0|         0|         0|         0|         0|         0|          0|          0|          0|          0|          0|          0|          0|          0|          0|          0|          0|          0|          0|          0|          0|          0|          0|          0|          0|          1|          0|          0|          0|          0|          0|          0|          0|          0|          0|          0|          0|       5.0|\n",
      "|     2612|    59|   10|                             247|                            11|                            636|          228|           219|          124|                              6230|                1|                0|                0|                0|         0|         0|         0|         0|         0|         0|         0|         0|         0|          0|          0|          0|          0|          0|          0|          0|          0|          0|          0|          0|          0|          0|          0|          0|          0|          0|          0|          0|          1|          0|          0|          0|          0|          0|          0|          0|          0|          0|          0|          0|       5.0|\n",
      "|     2612|   201|    4|                             180|                            51|                            735|          218|           243|          161|                              6222|                1|                0|                0|                0|         0|         0|         0|         0|         0|         0|         0|         0|         0|          0|          0|          0|          0|          0|          0|          0|          0|          1|          0|          0|          0|          0|          0|          0|          0|          0|          0|          0|          0|          0|          0|          0|          0|          0|          0|          0|          0|          0|          0|          0|       5.0|\n",
      "|     2886|   151|   11|                             371|                            26|                           5253|          234|           240|          136|                              4051|                1|                0|                0|                0|         0|         0|         0|         0|         0|         0|         0|         0|         0|          0|          0|          0|          0|          0|          0|          0|          0|          0|          0|          0|          0|          0|          0|          0|          0|          0|          0|          0|          0|          1|          0|          0|          0|          0|          0|          0|          0|          0|          0|          0|       2.0|\n",
      "|     2742|   134|   22|                             150|                            69|                           3215|          248|           224|           92|                              6091|                1|                0|                0|                0|         0|         0|         0|         0|         0|         0|         0|         0|         0|          0|          0|          0|          0|          0|          0|          0|          0|          0|          0|          0|          0|          0|          0|          0|          0|          0|          0|          0|          0|          1|          0|          0|          0|          0|          0|          0|          0|          0|          0|          0|       2.0|\n",
      "|     2609|   214|    7|                             150|                            46|                            771|          213|           247|          170|                              6211|                1|                0|                0|                0|         0|         0|         0|         0|         0|         0|         0|         0|         0|          0|          0|          0|          0|          0|          0|          0|          0|          1|          0|          0|          0|          0|          0|          0|          0|          0|          0|          0|          0|          0|          0|          0|          0|          0|          0|          0|          0|          0|          0|          0|       5.0|\n",
      "|     2503|   157|    4|                              67|                             4|                            674|          224|           240|          151|                              5600|                1|                0|                0|                0|         0|         0|         0|         0|         0|         0|         0|         0|         0|          0|          0|          0|          0|          0|          0|          0|          0|          1|          0|          0|          0|          0|          0|          0|          0|          0|          0|          0|          0|          0|          0|          0|          0|          0|          0|          0|          0|          0|          0|          0|       5.0|\n",
      "|     2495|    51|    7|                              42|                             2|                            752|          224|           225|          137|                              5576|                1|                0|                0|                0|         0|         0|         0|         0|         0|         0|         0|         0|         0|          0|          0|          0|          0|          0|          0|          1|          0|          0|          0|          0|          0|          0|          0|          0|          0|          0|          0|          0|          0|          0|          0|          0|          0|          0|          0|          0|          0|          0|          0|          0|       5.0|\n",
      "|     2610|   259|    1|                             120|                            -1|                            607|          216|           239|          161|                              6096|                1|                0|                0|                0|         0|         0|         0|         0|         0|         0|         0|         0|         0|          0|          0|          0|          0|          0|          0|          0|          0|          0|          0|          0|          0|          0|          0|          0|          0|          0|          0|          0|          1|          0|          0|          0|          0|          0|          0|          0|          0|          0|          0|          0|       5.0|\n",
      "|     2517|    72|    7|                              85|                             6|                            595|          228|           227|          133|                              5607|                1|                0|                0|                0|         0|         0|         0|         0|         0|         0|         0|         0|         0|          0|          0|          0|          0|          0|          0|          0|          0|          1|          0|          0|          0|          0|          0|          0|          0|          0|          0|          0|          0|          0|          0|          0|          0|          0|          0|          0|          0|          0|          0|          0|       5.0|\n",
      "|     2504|     0|    4|                              95|                             5|                            691|          214|           232|          156|                              5572|                1|                0|                0|                0|         0|         0|         0|         0|         0|         0|         0|         0|         0|          0|          0|          0|          0|          0|          0|          0|          0|          1|          0|          0|          0|          0|          0|          0|          0|          0|          0|          0|          0|          0|          0|          0|          0|          0|          0|          0|          0|          0|          0|          0|       5.0|\n",
      "+---------+------+-----+--------------------------------+------------------------------+-------------------------------+-------------+--------------+-------------+----------------------------------+-----------------+-----------------+-----------------+-----------------+----------+----------+----------+----------+----------+----------+----------+----------+----------+-----------+-----------+-----------+-----------+-----------+-----------+-----------+-----------+-----------+-----------+-----------+-----------+-----------+-----------+-----------+-----------+-----------+-----------+-----------+-----------+-----------+-----------+-----------+-----------+-----------+-----------+-----------+-----------+-----------+-----------+-----------+----------+\n",
      "only showing top 20 rows\n",
      "\n"
     ]
    }
   ],
   "source": [
    "from pyspark.sql.types import DoubleType\n",
    "from pyspark.sql.functions import col\n",
    "data_without_header=spark.read.options(header=False ,inferSchema=True).csv(\"covtype.csv\")\n",
    "data_without_header.printSchema()\n",
    "\n",
    "colnames =  [\"Elevation\", \"Aspect\", \"Slope\", \"Horizontal_Distance_To_Hydrology\", \"Vertical_Distance_To_Hydrology\", \"Horizontal_Distance_To_Roadways\", \"Hillshade_9am\", \"Hillshade_Noon\", \"Hillshade_3pm\", \"Horizontal_Distance_To_Fire_Points\"]\n",
    "colnames = colnames + [f'Wilderness_Area_{i}' for i in range(4)]\n",
    "colnames = colnames + [f'Soil_Type{i}' for i in range(40)] + ['Cover_Type']\n",
    "data2 = data_without_header.toDF(*colnames)\n",
    "data2= data2.withColumn('Cover_Type', col('Cover_Type').cast(DoubleType()))\n",
    "data2.show()"
   ]
  },
  {
   "cell_type": "code",
   "execution_count": 5,
   "id": "12384d9d-16a5-456a-a65d-cddc6f3b2f01",
   "metadata": {},
   "outputs": [
    {
     "name": "stderr",
     "output_type": "stream",
     "text": [
      "[Stage 4:=======>                                                   (1 + 7) / 8]\r"
     ]
    },
    {
     "name": "stdout",
     "output_type": "stream",
     "text": [
      "root\n",
      " |-- Elevation: integer (nullable = true)\n",
      " |-- Aspect: integer (nullable = true)\n",
      " |-- Slope: integer (nullable = true)\n",
      " |-- Horizontal_Distance_To_Hydrology: integer (nullable = true)\n",
      " |-- Vertical_Distance_To_Hydrology: integer (nullable = true)\n",
      " |-- Horizontal_Distance_To_Roadways: integer (nullable = true)\n",
      " |-- Hillshade_9am: integer (nullable = true)\n",
      " |-- Hillshade_Noon: integer (nullable = true)\n",
      " |-- Hillshade_3pm: integer (nullable = true)\n",
      " |-- Horizontal_Distance_To_Fire_Points: integer (nullable = true)\n",
      " |-- Wilderness_Area1: integer (nullable = true)\n",
      " |-- Wilderness_Area2: integer (nullable = true)\n",
      " |-- Wilderness_Area3: integer (nullable = true)\n",
      " |-- Wilderness_Area4: integer (nullable = true)\n",
      " |-- Soil_Type1: integer (nullable = true)\n",
      " |-- Soil_Type2: integer (nullable = true)\n",
      " |-- Soil_Type3: integer (nullable = true)\n",
      " |-- Soil_Type4: integer (nullable = true)\n",
      " |-- Soil_Type5: integer (nullable = true)\n",
      " |-- Soil_Type6: integer (nullable = true)\n",
      " |-- Soil_Type7: integer (nullable = true)\n",
      " |-- Soil_Type8: integer (nullable = true)\n",
      " |-- Soil_Type9: integer (nullable = true)\n",
      " |-- Soil_Type10: integer (nullable = true)\n",
      " |-- Soil_Type11: integer (nullable = true)\n",
      " |-- Soil_Type12: integer (nullable = true)\n",
      " |-- Soil_Type13: integer (nullable = true)\n",
      " |-- Soil_Type14: integer (nullable = true)\n",
      " |-- Soil_Type15: integer (nullable = true)\n",
      " |-- Soil_Type16: integer (nullable = true)\n",
      " |-- Soil_Type17: integer (nullable = true)\n",
      " |-- Soil_Type18: integer (nullable = true)\n",
      " |-- Soil_Type19: integer (nullable = true)\n",
      " |-- Soil_Type20: integer (nullable = true)\n",
      " |-- Soil_Type21: integer (nullable = true)\n",
      " |-- Soil_Type22: integer (nullable = true)\n",
      " |-- Soil_Type23: integer (nullable = true)\n",
      " |-- Soil_Type24: integer (nullable = true)\n",
      " |-- Soil_Type25: integer (nullable = true)\n",
      " |-- Soil_Type26: integer (nullable = true)\n",
      " |-- Soil_Type27: integer (nullable = true)\n",
      " |-- Soil_Type28: integer (nullable = true)\n",
      " |-- Soil_Type29: integer (nullable = true)\n",
      " |-- Soil_Type30: integer (nullable = true)\n",
      " |-- Soil_Type31: integer (nullable = true)\n",
      " |-- Soil_Type32: integer (nullable = true)\n",
      " |-- Soil_Type33: integer (nullable = true)\n",
      " |-- Soil_Type34: integer (nullable = true)\n",
      " |-- Soil_Type35: integer (nullable = true)\n",
      " |-- Soil_Type36: integer (nullable = true)\n",
      " |-- Soil_Type37: integer (nullable = true)\n",
      " |-- Soil_Type38: integer (nullable = true)\n",
      " |-- Soil_Type39: integer (nullable = true)\n",
      " |-- Soil_Type40: integer (nullable = true)\n",
      " |-- Cover_Type: integer (nullable = true)\n",
      "\n"
     ]
    },
    {
     "name": "stderr",
     "output_type": "stream",
     "text": [
      "                                                                                \r"
     ]
    },
    {
     "data": {
      "text/plain": [
       "Row(Elevation=2596, Aspect=51, Slope=3, Horizontal_Distance_To_Hydrology=258, Vertical_Distance_To_Hydrology=0, Horizontal_Distance_To_Roadways=510, Hillshade_9am=221, Hillshade_Noon=232, Hillshade_3pm=148, Horizontal_Distance_To_Fire_Points=6279, Wilderness_Area1=1, Wilderness_Area2=0, Wilderness_Area3=0, Wilderness_Area4=0, Soil_Type1=0, Soil_Type2=0, Soil_Type3=0, Soil_Type4=0, Soil_Type5=0, Soil_Type6=0, Soil_Type7=0, Soil_Type8=0, Soil_Type9=0, Soil_Type10=0, Soil_Type11=0, Soil_Type12=0, Soil_Type13=0, Soil_Type14=0, Soil_Type15=0, Soil_Type16=0, Soil_Type17=0, Soil_Type18=0, Soil_Type19=0, Soil_Type20=0, Soil_Type21=0, Soil_Type22=0, Soil_Type23=0, Soil_Type24=0, Soil_Type25=0, Soil_Type26=0, Soil_Type27=0, Soil_Type28=0, Soil_Type29=1, Soil_Type30=0, Soil_Type31=0, Soil_Type32=0, Soil_Type33=0, Soil_Type34=0, Soil_Type35=0, Soil_Type36=0, Soil_Type37=0, Soil_Type38=0, Soil_Type39=0, Soil_Type40=0, Cover_Type=5)"
      ]
     },
     "execution_count": 5,
     "metadata": {},
     "output_type": "execute_result"
    }
   ],
   "source": [
    "data=spark.read.options(header=True ,inferSchema=True).csv(\"covtype.csv\")\n",
    "data.printSchema()\n",
    "data.head()"
   ]
  },
  {
   "cell_type": "code",
   "execution_count": 6,
   "id": "b4474d6d-bd0e-42af-95d8-4731fb068f46",
   "metadata": {
    "scrolled": true
   },
   "outputs": [
    {
     "name": "stderr",
     "output_type": "stream",
     "text": [
      "[Stage 6:=======>                                                   (1 + 7) / 8]\r"
     ]
    },
    {
     "name": "stdout",
     "output_type": "stream",
     "text": [
      "+---------+------+-----+--------------------------------+------------------------------+-------------------------------+-------------+--------------+-------------+----------------------------------+----------------+----------------+----------------+----------------+----------+----------+----------+----------+----------+----------+----------+----------+----------+-----------+-----------+-----------+-----------+-----------+-----------+-----------+-----------+-----------+-----------+-----------+-----------+-----------+-----------+-----------+-----------+-----------+-----------+-----------+-----------+-----------+-----------+-----------+-----------+-----------+-----------+-----------+-----------+-----------+-----------+-----------+----------+\n",
      "|Elevation|Aspect|Slope|Horizontal_Distance_To_Hydrology|Vertical_Distance_To_Hydrology|Horizontal_Distance_To_Roadways|Hillshade_9am|Hillshade_Noon|Hillshade_3pm|Horizontal_Distance_To_Fire_Points|Wilderness_Area1|Wilderness_Area2|Wilderness_Area3|Wilderness_Area4|Soil_Type1|Soil_Type2|Soil_Type3|Soil_Type4|Soil_Type5|Soil_Type6|Soil_Type7|Soil_Type8|Soil_Type9|Soil_Type10|Soil_Type11|Soil_Type12|Soil_Type13|Soil_Type14|Soil_Type15|Soil_Type16|Soil_Type17|Soil_Type18|Soil_Type19|Soil_Type20|Soil_Type21|Soil_Type22|Soil_Type23|Soil_Type24|Soil_Type25|Soil_Type26|Soil_Type27|Soil_Type28|Soil_Type29|Soil_Type30|Soil_Type31|Soil_Type32|Soil_Type33|Soil_Type34|Soil_Type35|Soil_Type36|Soil_Type37|Soil_Type38|Soil_Type39|Soil_Type40|Cover_Type|\n",
      "+---------+------+-----+--------------------------------+------------------------------+-------------------------------+-------------+--------------+-------------+----------------------------------+----------------+----------------+----------------+----------------+----------+----------+----------+----------+----------+----------+----------+----------+----------+-----------+-----------+-----------+-----------+-----------+-----------+-----------+-----------+-----------+-----------+-----------+-----------+-----------+-----------+-----------+-----------+-----------+-----------+-----------+-----------+-----------+-----------+-----------+-----------+-----------+-----------+-----------+-----------+-----------+-----------+-----------+----------+\n",
      "|     1863|    37|   17|                             120|                            18|                             90|          217|           202|          115|                               769|               0|               0|               0|               1|         0|         1|         0|         0|         0|         0|         0|         0|         0|          0|          0|          0|          0|          0|          0|          0|          0|          0|          0|          0|          0|          0|          0|          0|          0|          0|          0|          0|          0|          0|          0|          0|          0|          0|          0|          0|          0|          0|          0|          0|         6|\n",
      "|     1874|    18|   14|                               0|                             0|                             90|          208|           209|          135|                               793|               0|               0|               0|               1|         0|         0|         0|         0|         1|         0|         0|         0|         0|          0|          0|          0|          0|          0|          0|          0|          0|          0|          0|          0|          0|          0|          0|          0|          0|          0|          0|          0|          0|          0|          0|          0|          0|          0|          0|          0|          0|          0|          0|          0|         6|\n",
      "|     1888|    33|   22|                             150|                            46|                            108|          209|           185|          103|                               735|               0|               0|               0|               1|         0|         1|         0|         0|         0|         0|         0|         0|         0|          0|          0|          0|          0|          0|          0|          0|          0|          0|          0|          0|          0|          0|          0|          0|          0|          0|          0|          0|          0|          0|          0|          0|          0|          0|          0|          0|          0|          0|          0|          0|         6|\n",
      "|     1889|    28|   22|                             150|                            23|                            120|          205|           185|          108|                               759|               0|               0|               0|               1|         1|         0|         0|         0|         0|         0|         0|         0|         0|          0|          0|          0|          0|          0|          0|          0|          0|          0|          0|          0|          0|          0|          0|          0|          0|          0|          0|          0|          0|          0|          0|          0|          0|          0|          0|          0|          0|          0|          0|          0|         6|\n",
      "|     1889|   353|   30|                              95|                            39|                             67|          153|           172|          146|                               600|               0|               0|               0|               1|         0|         0|         0|         0|         1|         0|         0|         0|         0|          0|          0|          0|          0|          0|          0|          0|          0|          0|          0|          0|          0|          0|          0|          0|          0|          0|          0|          0|          0|          0|          0|          0|          0|          0|          0|          0|          0|          0|          0|          0|         6|\n",
      "|     1898|    34|   23|                             175|                            56|                            134|          210|           184|           99|                               765|               0|               0|               0|               1|         0|         1|         0|         0|         0|         0|         0|         0|         0|          0|          0|          0|          0|          0|          0|          0|          0|          0|          0|          0|          0|          0|          0|          0|          0|          0|          0|          0|          0|          0|          0|          0|          0|          0|          0|          0|          0|          0|          0|          0|         6|\n",
      "|     1901|   311|    9|                              30|                             2|                            190|          195|           234|          179|                               726|               0|               0|               0|               1|         1|         0|         0|         0|         0|         0|         0|         0|         0|          0|          0|          0|          0|          0|          0|          0|          0|          0|          0|          0|          0|          0|          0|          0|          0|          0|          0|          0|          0|          0|          0|          0|          0|          0|          0|          0|          0|          0|          0|          0|         6|\n",
      "|     1903|     5|   13|                              42|                             4|                            201|          203|           214|          148|                               708|               0|               0|               0|               1|         1|         0|         0|         0|         0|         0|         0|         0|         0|          0|          0|          0|          0|          0|          0|          0|          0|          0|          0|          0|          0|          0|          0|          0|          0|          0|          0|          0|          0|          0|          0|          0|          0|          0|          0|          0|          0|          0|          0|          0|         6|\n",
      "|     1903|    67|   16|                             108|                            36|                            120|          234|           207|          100|                               969|               0|               0|               0|               1|         0|         0|         1|         0|         0|         0|         0|         0|         0|          0|          0|          0|          0|          0|          0|          0|          0|          0|          0|          0|          0|          0|          0|          0|          0|          0|          0|          0|          0|          0|          0|          0|          0|          0|          0|          0|          0|          0|          0|          0|         3|\n",
      "|     1904|    51|   26|                              67|                            30|                            162|          222|           175|           72|                               711|               0|               0|               0|               1|         1|         0|         0|         0|         0|         0|         0|         0|         0|          0|          0|          0|          0|          0|          0|          0|          0|          0|          0|          0|          0|          0|          0|          0|          0|          0|          0|          0|          0|          0|          0|          0|          0|          0|          0|          0|          0|          0|          0|          0|         6|\n",
      "|     1905|    33|   27|                              90|                            46|                            150|          204|           171|           89|                               725|               0|               0|               0|               1|         1|         0|         0|         0|         0|         0|         0|         0|         0|          0|          0|          0|          0|          0|          0|          0|          0|          0|          0|          0|          0|          0|          0|          0|          0|          0|          0|          0|          0|          0|          0|          0|          0|          0|          0|          0|          0|          0|          0|          0|         6|\n",
      "|     1905|    77|   21|                              90|                            38|                            120|          241|           196|           75|                              1025|               0|               0|               0|               1|         0|         0|         1|         0|         0|         0|         0|         0|         0|          0|          0|          0|          0|          0|          0|          0|          0|          0|          0|          0|          0|          0|          0|          0|          0|          0|          0|          0|          0|          0|          0|          0|          0|          0|          0|          0|          0|          0|          0|          0|         3|\n",
      "|     1906|   356|   20|                             150|                            55|                            120|          184|           201|          151|                               726|               0|               0|               0|               1|         0|         1|         0|         0|         0|         0|         0|         0|         0|          0|          0|          0|          0|          0|          0|          0|          0|          0|          0|          0|          0|          0|          0|          0|          0|          0|          0|          0|          0|          0|          0|          0|          0|          0|          0|          0|          0|          0|          0|          0|         6|\n",
      "|     1908|   323|   32|                             150|                            52|                            120|          125|           190|          196|                               765|               0|               0|               0|               1|         0|         0|         0|         0|         1|         0|         0|         0|         0|          0|          0|          0|          0|          0|          0|          0|          0|          0|          0|          0|          0|          0|          0|          0|          0|          0|          0|          0|          0|          0|          0|          0|          0|          0|          0|          0|          0|          0|          0|          0|         6|\n",
      "|     1916|    24|   25|                             212|                            74|                            175|          197|           177|          105|                               789|               0|               0|               0|               1|         0|         1|         0|         0|         0|         0|         0|         0|         0|          0|          0|          0|          0|          0|          0|          0|          0|          0|          0|          0|          0|          0|          0|          0|          0|          0|          0|          0|          0|          0|          0|          0|          0|          0|          0|          0|          0|          0|          0|          0|         6|\n",
      "|     1918|   321|   28|                              42|                            17|                             85|          139|           201|          196|                               402|               0|               0|               0|               1|         0|         0|         0|         0|         0|         0|         0|         0|         0|          1|          0|          0|          0|          0|          0|          0|          0|          0|          0|          0|          0|          0|          0|          0|          0|          0|          0|          0|          0|          0|          0|          0|          0|          0|          0|          0|          0|          0|          0|          0|         3|\n",
      "|     1919|    30|   22|                              67|                             9|                            256|          208|           188|          107|                               661|               0|               0|               0|               1|         1|         0|         0|         0|         0|         0|         0|         0|         0|          0|          0|          0|          0|          0|          0|          0|          0|          0|          0|          0|          0|          0|          0|          0|          0|          0|          0|          0|          0|          0|          0|          0|          0|          0|          0|          0|          0|          0|          0|          0|         6|\n",
      "|     1919|    44|   26|                             162|                            68|                            150|          216|           173|           77|                               706|               0|               0|               0|               1|         0|         0|         0|         0|         1|         0|         0|         0|         0|          0|          0|          0|          0|          0|          0|          0|          0|          0|          0|          0|          0|          0|          0|          0|          0|          0|          0|          0|          0|          0|          0|          0|          0|          0|          0|          0|          0|          0|          0|          0|         6|\n",
      "|     1925|   352|   22|                             210|                            74|                            182|          176|           197|          155|                               779|               0|               0|               0|               1|         0|         0|         0|         0|         1|         0|         0|         0|         0|          0|          0|          0|          0|          0|          0|          0|          0|          0|          0|          0|          0|          0|          0|          0|          0|          0|          0|          0|          0|          0|          0|          0|          0|          0|          0|          0|          0|          0|          0|          0|         6|\n",
      "|     1927|     4|   36|                             120|                            78|                             95|          149|           147|          116|                               666|               0|               0|               0|               1|         0|         0|         0|         0|         1|         0|         0|         0|         0|          0|          0|          0|          0|          0|          0|          0|          0|          0|          0|          0|          0|          0|          0|          0|          0|          0|          0|          0|          0|          0|          0|          0|          0|          0|          0|          0|          0|          0|          0|          0|         6|\n",
      "+---------+------+-----+--------------------------------+------------------------------+-------------------------------+-------------+--------------+-------------+----------------------------------+----------------+----------------+----------------+----------------+----------+----------+----------+----------+----------+----------+----------+----------+----------+-----------+-----------+-----------+-----------+-----------+-----------+-----------+-----------+-----------+-----------+-----------+-----------+-----------+-----------+-----------+-----------+-----------+-----------+-----------+-----------+-----------+-----------+-----------+-----------+-----------+-----------+-----------+-----------+-----------+-----------+-----------+----------+\n",
      "only showing top 20 rows\n",
      "\n"
     ]
    },
    {
     "name": "stderr",
     "output_type": "stream",
     "text": [
      "                                                                                \r"
     ]
    }
   ],
   "source": [
    "train_data,test_data=data.randomSplit([0.8,0.2],seed=42)\n",
    "train_data.cache()\n",
    "test_data.cache()\n",
    "train_data.show()"
   ]
  },
  {
   "cell_type": "markdown",
   "id": "534859f6-d1f7-48cf-96c6-e665cdf191e1",
   "metadata": {},
   "source": [
    "2) preprocessing data"
   ]
  },
  {
   "cell_type": "code",
   "execution_count": 8,
   "id": "c1880fcb-4491-486c-8c96-3124a076f459",
   "metadata": {},
   "outputs": [
    {
     "name": "stdout",
     "output_type": "stream",
     "text": [
      "rows count before removing missing rows:581012\n"
     ]
    },
    {
     "name": "stderr",
     "output_type": "stream",
     "text": [
      "[Stage 11:=======>                                                  (1 + 7) / 8]\r"
     ]
    },
    {
     "name": "stdout",
     "output_type": "stream",
     "text": [
      "rows count after removing missing rows:581012\n"
     ]
    },
    {
     "name": "stderr",
     "output_type": "stream",
     "text": [
      "                                                                                \r"
     ]
    }
   ],
   "source": [
    "from pyspark.ml.feature import StringIndexer, VectorAssembler\n",
    "\n",
    "print(f\"rows count before removing missing rows:{data.count()}\")\n",
    "# Handling missing values\n",
    "# Dropping rows with missing values\n",
    "data = data.dropna()\n",
    "print(f\"rows count after removing missing rows:{data.count()}\")\n",
    "# # Handling categorical features using StringIndexer\n",
    "# categorical_columns = ['workclass', 'education', 'marital_status', 'occupation', 'relationship', 'race', 'sex', 'native_country', 'income']\n",
    "# indexers = [StringIndexer(inputCol=column, outputCol=column+\"_index\") for column in categorical_columns]\n",
    "\n",
    "# # Create a pipeline for preprocessing\n",
    "# pipeline = Pipeline(stages=indexers + [assembler])\n",
    "# df_prepared = pipeline.fit(df_clean).transform(df_clean)"
   ]
  },
  {
   "cell_type": "code",
   "execution_count": 9,
   "id": "bf6d64f0-259d-482f-9738-8d4d3a3b373e",
   "metadata": {},
   "outputs": [
    {
     "name": "stdout",
     "output_type": "stream",
     "text": [
      "+--------------------+----------+\n",
      "|            features|Cover_Type|\n",
      "+--------------------+----------+\n",
      "|(54,[0,1,2,3,4,5,...|         6|\n",
      "|(54,[0,1,2,5,6,7,...|         6|\n",
      "|(54,[0,1,2,3,4,5,...|         6|\n",
      "|(54,[0,1,2,3,4,5,...|         6|\n",
      "|(54,[0,1,2,3,4,5,...|         6|\n",
      "+--------------------+----------+\n",
      "only showing top 5 rows\n",
      "\n"
     ]
    }
   ],
   "source": [
    "# # Assemble features into a feature vector\n",
    "# assembler = VectorAssembler(\n",
    "#     inputCols=['age', 'fnlwgt', 'education_num', 'capital_gain', 'capital_loss', 'hours_per_week'] + [col+\"_index\" for col in categorical_columns[:-1]],\n",
    "#     outputCol='features'\n",
    "# )\n",
    "cols=data.columns\n",
    "vector_assembler=VectorAssembler(inputCols=cols[:-1],outputCol='features')\n",
    "assembled_train_data=vector_assembler.transform(train_data)\n",
    "assembled_train_data.select([\"features\",\"Cover_Type\"]).show(5)"
   ]
  },
  {
   "cell_type": "code",
   "execution_count": 10,
   "id": "51ee10cf-d986-4032-a997-4d226e9653a1",
   "metadata": {},
   "outputs": [
    {
     "name": "stderr",
     "output_type": "stream",
     "text": [
      "24/11/06 01:10:47 WARN GarbageCollectionMetrics: To enable non-built-in garbage collector(s) List(G1 Concurrent GC), users should configure it(them) to spark.eventLog.gcMetrics.youngGenerationGarbageCollectors or spark.eventLog.gcMetrics.oldGenerationGarbageCollectors\n",
      "                                                                                \r"
     ]
    },
    {
     "name": "stdout",
     "output_type": "stream",
     "text": [
      "DecisionTreeClassificationModel: uid=DecisionTreeClassifier_7fd7b76014fb, depth=5, numNodes=49, numClasses=8, numFeatures=54\n",
      "  If (feature 0 <= 3036.5)\n",
      "   If (feature 0 <= 2545.5)\n",
      "    If (feature 10 <= 0.5)\n",
      "     If (feature 0 <= 2413.5)\n",
      "      If (feature 3 <= 15.0)\n",
      "       Predict: 4.0\n",
      "      Else (feature 3 > 15.0)\n",
      "       Predict: 3.0\n",
      "     Else (feature 0 > 2413.5)\n",
      "      Predict: 3.0\n",
      "    Else (feature 10 > 0.5)\n",
      "     If (feature 9 <= 5460.5)\n",
      "      Predict: 2.0\n",
      "     Else (feature 9 > 5460.5)\n",
      "      If (feature 5 <= 524.5)\n",
      "       Predict: 2.0\n",
      "      Else (feature 5 > 524.5)\n",
      "       Predict: 5.0\n",
      "   Else (feature 0 > 2545.5)\n",
      "    If (feature 15 <= 0.5)\n",
      "     If (feature 17 <= 0.5)\n",
      "      Predict: 2.0\n",
      "     Else (feature 17 > 0.5)\n",
      "      If (feature 0 <= 2678.5)\n",
      "       Predict: 3.0\n",
      "      Else (feature 0 > 2678.5)\n",
      "       Predict: 2.0\n",
      "    Else (feature 15 > 0.5)\n",
      "     If (feature 9 <= 1439.0)\n",
      "      If (feature 7 <= 216.5)\n",
      "       Predict: 2.0\n",
      "      Else (feature 7 > 216.5)\n",
      "       Predict: 3.0\n",
      "     Else (feature 9 > 1439.0)\n",
      "      If (feature 5 <= 2289.5)\n",
      "       Predict: 3.0\n",
      "      Else (feature 5 > 2289.5)\n",
      "       Predict: 2.0\n",
      "  Else (feature 0 > 3036.5)\n",
      "   If (feature 0 <= 3315.5)\n",
      "    If (feature 7 <= 239.5)\n",
      "     If (feature 0 <= 3101.5)\n",
      "      If (feature 3 <= 186.0)\n",
      "       Predict: 1.0\n",
      "      Else (feature 3 > 186.0)\n",
      "       Predict: 2.0\n",
      "     Else (feature 0 > 3101.5)\n",
      "      Predict: 1.0\n",
      "    Else (feature 7 > 239.5)\n",
      "     If (feature 3 <= 333.0)\n",
      "      Predict: 1.0\n",
      "     Else (feature 3 > 333.0)\n",
      "      If (feature 0 <= 3207.5)\n",
      "       Predict: 2.0\n",
      "      Else (feature 0 > 3207.5)\n",
      "       Predict: 1.0\n",
      "   Else (feature 0 > 3315.5)\n",
      "    If (feature 12 <= 0.5)\n",
      "     If (feature 3 <= 296.0)\n",
      "      If (feature 6 <= 206.5)\n",
      "       Predict: 1.0\n",
      "      Else (feature 6 > 206.5)\n",
      "       Predict: 7.0\n",
      "     Else (feature 3 > 296.0)\n",
      "      Predict: 1.0\n",
      "    Else (feature 12 > 0.5)\n",
      "     If (feature 45 <= 0.5)\n",
      "      Predict: 7.0\n",
      "     Else (feature 45 > 0.5)\n",
      "      If (feature 5 <= 998.0)\n",
      "       Predict: 7.0\n",
      "      Else (feature 5 > 998.0)\n",
      "       Predict: 1.0\n",
      "\n"
     ]
    }
   ],
   "source": [
    "from pyspark.ml.classification import DecisionTreeClassifier\n",
    "classifier=DecisionTreeClassifier(seed=1234, featuresCol='features',labelCol=\"Cover_Type\",predictionCol='predictions')\n",
    "model=classifier.fit(assembled_train_data)\n",
    "print(model.toDebugString)"
   ]
  },
  {
   "cell_type": "code",
   "execution_count": 11,
   "id": "68df71ae-77f6-482b-8870-08e5cc21b978",
   "metadata": {},
   "outputs": [
    {
     "name": "stdout",
     "output_type": "stream",
     "text": [
      "+----------+-----------+-------------------------------------------------------------------------------------------------+\n",
      "|Cover_Type|predictions|probability                                                                                      |\n",
      "+----------+-----------+-------------------------------------------------------------------------------------------------+\n",
      "|6         |3.0        |[0.0,0.0,0.02545064185713647,0.6457038064140985,0.05770004920159234,0.0,0.2711455025271727,0.0]  |\n",
      "|6         |4.0        |[0.0,0.0,0.024322830292979547,0.28745163073521285,0.4847982310668878,0.0,0.20342730790491984,0.0]|\n",
      "|6         |3.0        |[0.0,0.0,0.02545064185713647,0.6457038064140985,0.05770004920159234,0.0,0.2711455025271727,0.0]  |\n",
      "|6         |3.0        |[0.0,0.0,0.02545064185713647,0.6457038064140985,0.05770004920159234,0.0,0.2711455025271727,0.0]  |\n",
      "|6         |3.0        |[0.0,0.0,0.02545064185713647,0.6457038064140985,0.05770004920159234,0.0,0.2711455025271727,0.0]  |\n",
      "+----------+-----------+-------------------------------------------------------------------------------------------------+\n",
      "only showing top 5 rows\n",
      "\n"
     ]
    }
   ],
   "source": [
    "predictions=model.transform(assembled_train_data)\n",
    "predictions.select(['Cover_Type','predictions','probability']).show(5,truncate=False)"
   ]
  },
  {
   "cell_type": "markdown",
   "id": "8cfd35b1-6043-4a83-9be0-36c855688e7c",
   "metadata": {},
   "source": [
    "4) Evaluation Metrics"
   ]
  },
  {
   "cell_type": "code",
   "execution_count": 13,
   "id": "198d6e0d-61b1-4ca5-b0de-b338225282ba",
   "metadata": {},
   "outputs": [
    {
     "name": "stderr",
     "output_type": "stream",
     "text": [
      "                                                                                \r"
     ]
    },
    {
     "name": "stdout",
     "output_type": "stream",
     "text": [
      "precision score:0.6796868512937382\n",
      "f1 score:0.6810376100570322\n",
      "accuracy score:0.6994398765705727\n",
      "recall score:0.6994398765705728\n"
     ]
    }
   ],
   "source": [
    "from pyspark.ml.evaluation import MulticlassClassificationEvaluator\n",
    "\n",
    "evaluator=MulticlassClassificationEvaluator(labelCol='Cover_Type',predictionCol='predictions')\n",
    "\n",
    "f1score=evaluator.setMetricName('f1').evaluate(predictions)\n",
    "accuracy_score=evaluator.setMetricName('accuracy').evaluate(predictions)\n",
    "precision_score=evaluator.setMetricName('weightedPrecision').evaluate(predictions)\n",
    "recall_score=evaluator.setMetricName('weightedRecall').evaluate(predictions)\n",
    "\n",
    "print(f\"precision score:{precision_score}\")\n",
    "print(f\"f1 score:{f1score}\")\n",
    "print(f\"accuracy score:{accuracy_score}\")\n",
    "print(f\"recall score:{recall_score}\")"
   ]
  },
  {
   "cell_type": "markdown",
   "id": "5b1da894-99a3-4d29-98ec-a2cd361ff044",
   "metadata": {},
   "source": [
    "columns are predicated classes, and rows are actual classes"
   ]
  },
  {
   "cell_type": "code",
   "execution_count": 15,
   "id": "5d2003b7-6f8d-48b7-aaf2-a086af7f8a8d",
   "metadata": {},
   "outputs": [
    {
     "name": "stderr",
     "output_type": "stream",
     "text": [
      "[Stage 41:=============================>                            (4 + 4) / 8]\r"
     ]
    },
    {
     "name": "stdout",
     "output_type": "stream",
     "text": [
      "+----------+------+------+-----+---+---+---+----+---+\n",
      "|Cover_Type|     1|     2|    3|  4|  5|  6|   7|  8|\n",
      "+----------+------+------+-----+---+---+---+----+---+\n",
      "|         1|109014| 55859|   89|  0|  0|  0|4608|  0|\n",
      "|         2| 40587|180896| 4374| 44| 27|  0| 640|  0|\n",
      "|         3|     0|  2983|25091|520|  0|  0|   0|  0|\n",
      "|         4|     0|     0| 1327|877|  0|  0|   0|  0|\n",
      "|         5|     0|  7216|  235|  0| 68|  0|   0|  0|\n",
      "|         6|     0|  3040|10492|368|  0|  0|   0|  0|\n",
      "|         7|  7201|    66|    0|  0|  0|  0|9097|  0|\n",
      "+----------+------+------+-----+---+---+---+----+---+\n",
      "\n"
     ]
    },
    {
     "name": "stderr",
     "output_type": "stream",
     "text": [
      "                                                                                \r"
     ]
    }
   ],
   "source": [
    "confusion_matrix=predictions.groupBy('Cover_Type').pivot('predictions',range(1,9))\\\n",
    "                    .count()\\\n",
    "                    .na.fill(0.0)\\\n",
    "                    .orderBy('Cover_Type')\n",
    "\n",
    "confusion_matrix.show()"
   ]
  },
  {
   "cell_type": "markdown",
   "id": "5b87c506-c315-4969-96e7-0c138327515e",
   "metadata": {},
   "source": [
    "HyperTuning"
   ]
  },
  {
   "cell_type": "code",
   "execution_count": 17,
   "id": "f8726a73-fa60-46ae-b8b2-d41988e2b201",
   "metadata": {
    "scrolled": true
   },
   "outputs": [
    {
     "name": "stderr",
     "output_type": "stream",
     "text": [
      "                                                                                \r"
     ]
    }
   ],
   "source": [
    "from pyspark.ml.tuning import TrainValidationSplit,ParamGridBuilder\n",
    "\n",
    "classifier=DecisionTreeClassifier(seed=1234, featuresCol='features',labelCol=\"Cover_Type\",predictionCol='predictions')\n",
    "evaluator=MulticlassClassificationEvaluator(labelCol='Cover_Type',predictionCol='predictions',metricName='accuracy')\n",
    "parameter_grid=(ParamGridBuilder()\\\n",
    "               .addGrid(model.impurity,['gini','entropy'])\\\n",
    "               .addGrid(model.maxDepth,[1,20])\\\n",
    "               .addGrid(model.maxBins,[40,300])\\\n",
    "               .addGrid(model.minInfoGain,[0.0,0.05])\\\n",
    "               .build())\n",
    "\n",
    "validator=TrainValidationSplit(estimator=classifier,\n",
    "                                estimatorParamMaps=parameter_grid,\n",
    "                              evaluator=evaluator,seed=1234,trainRatio=0.9)\n",
    "validator_model=validator.fit(assembled_train_data)"
   ]
  },
  {
   "cell_type": "code",
   "execution_count": 18,
   "id": "a1302066-8cbc-431c-8d04-f0fc49e46d38",
   "metadata": {},
   "outputs": [
    {
     "data": {
      "text/plain": [
       "DecisionTreeClassificationModel: uid=DecisionTreeClassifier_1a54c6bafb41, depth=5, numNodes=49, numClasses=8, numFeatures=54"
      ]
     },
     "execution_count": 18,
     "metadata": {},
     "output_type": "execute_result"
    }
   ],
   "source": [
    "best_model=validator_model.bestModel\n",
    "best_model"
   ]
  },
  {
   "cell_type": "code",
   "execution_count": 19,
   "id": "4b48d942-a63e-4f06-9a23-a7dbfaec92ec",
   "metadata": {},
   "outputs": [
    {
     "name": "stdout",
     "output_type": "stream",
     "text": [
      "0.6980126759050381\n",
      "{Param(parent='DecisionTreeClassifier_7fd7b76014fb', name='impurity', doc='Criterion used for information gain calculation (case-insensitive). Supported options: entropy, gini'): 'gini', Param(parent='DecisionTreeClassifier_7fd7b76014fb', name='maxDepth', doc='Maximum depth of the tree. (>= 0) E.g., depth 0 means 1 leaf node; depth 1 means 1 internal node + 2 leaf nodes. Must be in range [0, 30].'): 1, Param(parent='DecisionTreeClassifier_7fd7b76014fb', name='maxBins', doc='Max number of bins for discretizing continuous features.  Must be >=2 and >= number of categories for any categorical feature.'): 40, Param(parent='DecisionTreeClassifier_7fd7b76014fb', name='minInfoGain', doc='Minimum information gain for a split to be considered at a tree node.'): 0.0}\n"
     ]
    }
   ],
   "source": [
    "metrics=validator_model.validationMetrics\n",
    "params=validator_model.getEstimatorParamMaps()\n",
    "metrics.sort(reverse=True)\n",
    "print(metrics[0])\n",
    "print(params[0])"
   ]
  },
  {
   "cell_type": "code",
   "execution_count": 41,
   "id": "3e737da6-e8aa-4db9-91a3-0ae7de426949",
   "metadata": {},
   "outputs": [],
   "source": [
    "spark.stop()"
   ]
  },
  {
   "cell_type": "code",
   "execution_count": null,
   "id": "a6f70f94-e1df-4f80-9ab8-29beb567efcf",
   "metadata": {},
   "outputs": [],
   "source": []
  }
 ],
 "metadata": {
  "kernelspec": {
   "display_name": "Python 3 (ipykernel)",
   "language": "python",
   "name": "python3"
  },
  "language_info": {
   "codemirror_mode": {
    "name": "ipython",
    "version": 3
   },
   "file_extension": ".py",
   "mimetype": "text/x-python",
   "name": "python",
   "nbconvert_exporter": "python",
   "pygments_lexer": "ipython3",
   "version": "3.12.4"
  }
 },
 "nbformat": 4,
 "nbformat_minor": 5
}
