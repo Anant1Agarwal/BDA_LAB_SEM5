{
 "cells": [
  {
   "cell_type": "code",
   "execution_count": 1,
   "id": "0f81c8a0-e41e-4691-84b8-a5f308ad4ccf",
   "metadata": {},
   "outputs": [],
   "source": [
    "from pyspark.sql import SparkSession\n",
    "from pyspark.ml.evaluation import RegressionEvaluator\n",
    "from pyspark.ml.recommendation import ALS"
   ]
  },
  {
   "cell_type": "code",
   "execution_count": 2,
   "id": "230b94ea-881c-46bf-92ff-376d0ca8f0ad",
   "metadata": {},
   "outputs": [
    {
     "name": "stderr",
     "output_type": "stream",
     "text": [
      "24/11/05 19:58:06 WARN Utils: Your hostname, Anants-MacBook-Air.local resolves to a loopback address: 127.0.0.1; using 10.86.5.30 instead (on interface en0)\n",
      "24/11/05 19:58:06 WARN Utils: Set SPARK_LOCAL_IP if you need to bind to another address\n",
      "Setting default log level to \"WARN\".\n",
      "To adjust logging level use sc.setLogLevel(newLevel). For SparkR, use setLogLevel(newLevel).\n",
      "24/11/05 19:58:06 WARN NativeCodeLoader: Unable to load native-hadoop library for your platform... using builtin-java classes where applicable\n"
     ]
    }
   ],
   "source": [
    "spark=SparkSession.builder.appName(\"Recommender\").getOrCreate()"
   ]
  },
  {
   "cell_type": "markdown",
   "id": "595b58fb-8786-4588-8cc4-609b84996593",
   "metadata": {},
   "source": [
    "1) Demonstrate how to load a dataset suitable for recommendation systems into a PySpark DataFrame."
   ]
  },
  {
   "cell_type": "code",
   "execution_count": 4,
   "id": "c05dbf00-6a84-4886-9cf1-0c252e483945",
   "metadata": {},
   "outputs": [
    {
     "name": "stderr",
     "output_type": "stream",
     "text": [
      "                                                                                \r"
     ]
    },
    {
     "name": "stdout",
     "output_type": "stream",
     "text": [
      "+-------+----------+-----------+\n",
      "|User-ID|      ISBN|Book-Rating|\n",
      "+-------+----------+-----------+\n",
      "| 276725|034545104X|          0|\n",
      "| 276726|0155061224|          5|\n",
      "| 276727|0446520802|          0|\n",
      "| 276729|052165615X|          3|\n",
      "| 276729|0521795028|          6|\n",
      "| 276733|2080674722|          0|\n",
      "| 276736|3257224281|          8|\n",
      "| 276737|0600570967|          6|\n",
      "| 276744|038550120X|          7|\n",
      "| 276745| 342310538|         10|\n",
      "| 276746|0425115801|          0|\n",
      "| 276746|0449006522|          0|\n",
      "| 276746|0553561618|          0|\n",
      "| 276746|055356451X|          0|\n",
      "| 276746|0786013990|          0|\n",
      "| 276746|0786014512|          0|\n",
      "| 276747|0060517794|          9|\n",
      "| 276747|0451192001|          0|\n",
      "| 276747|0609801279|          0|\n",
      "| 276747|0671537458|          9|\n",
      "+-------+----------+-----------+\n",
      "only showing top 20 rows\n",
      "\n"
     ]
    }
   ],
   "source": [
    "rating_df=spark.read.options(delimiter=\";\", header=True, inferSchema=True).csv(\"ratings.csv\")\n",
    "rating_df.show()"
   ]
  },
  {
   "cell_type": "code",
   "execution_count": 5,
   "id": "c19f75b3-51a2-4a32-a834-93b4f70ebffa",
   "metadata": {},
   "outputs": [
    {
     "name": "stderr",
     "output_type": "stream",
     "text": [
      "[Stage 3:=======>                                                   (1 + 7) / 8]\r"
     ]
    },
    {
     "name": "stdout",
     "output_type": "stream",
     "text": [
      "+-------+------------------+-----------+------------------+\n",
      "|summary|           User-ID|       ISBN|       Book-Rating|\n",
      "+-------+------------------+-----------+------------------+\n",
      "|  count|           1149780|    1149780|           1149780|\n",
      "|   mean|140386.39512602412|   Infinity|2.8669501991685364|\n",
      "| stddev| 80562.27771851176|        NaN| 3.854183859201656|\n",
      "|    min|                 2| 0330299891|                 0|\n",
      "|    max|            278854| �423350229|                10|\n",
      "+-------+------------------+-----------+------------------+\n",
      "\n"
     ]
    },
    {
     "name": "stderr",
     "output_type": "stream",
     "text": [
      "                                                                                \r"
     ]
    }
   ],
   "source": [
    "rating_df.describe().show()"
   ]
  },
  {
   "cell_type": "markdown",
   "id": "828c1b37-d04a-4044-b64e-a13f4114f40b",
   "metadata": {},
   "source": [
    "2) Implement a PySpark script that splits the data and trains a recommendation model."
   ]
  },
  {
   "cell_type": "markdown",
   "id": "20957dd1-ef47-4750-84b6-f102fd502fbb",
   "metadata": {},
   "source": [
    "Preprocessing data to be fed into ALS"
   ]
  },
  {
   "cell_type": "code",
   "execution_count": 8,
   "id": "d8c0d284-c78c-4bc8-8186-2d3cd6e7574a",
   "metadata": {},
   "outputs": [
    {
     "name": "stderr",
     "output_type": "stream",
     "text": [
      "                                                                                \r"
     ]
    }
   ],
   "source": [
    "from pyspark.ml.feature import StringIndexer\n",
    "\n",
    "user_Indexer=StringIndexer(inputCol=\"User-ID\",outputCol=\"User-ID-numeric\")\n",
    "item_Indexer=StringIndexer(inputCol=\"ISBN\",outputCol=\"ISBN-numeric\")\n",
    "\n",
    "user_indexer_model = user_Indexer.fit(rating_df)\n",
    "item_indexer_model = item_Indexer.fit(rating_df)\n",
    "\n",
    "rating_df=user_indexer_model.transform(rating_df)\n",
    "\n",
    "rating_df=item_indexer_model.transform(rating_df)\n"
   ]
  },
  {
   "cell_type": "code",
   "execution_count": 9,
   "id": "376724bc-647e-4535-b47d-6893376181bb",
   "metadata": {},
   "outputs": [],
   "source": [
    "train_data,test_data=rating_df.randomSplit([0.8,0.2])\n"
   ]
  },
  {
   "cell_type": "markdown",
   "id": "d5bf146d-c133-4ef3-bb67-0b0b3748d6e4",
   "metadata": {},
   "source": [
    "3) Implement a PySpark script using the ALS algorithm for collaborative filtering."
   ]
  },
  {
   "cell_type": "code",
   "execution_count": 11,
   "id": "514e8e08-3665-4b67-bc7a-ddeeaa7c4589",
   "metadata": {},
   "outputs": [
    {
     "name": "stderr",
     "output_type": "stream",
     "text": [
      "24/11/05 19:58:16 WARN DAGScheduler: Broadcasting large task binary with size 13.7 MiB\n"
     ]
    },
    {
     "name": "stdout",
     "output_type": "stream",
     "text": [
      "+-------+----------+-----------+---------------+------------+\n",
      "|User-ID|      ISBN|Book-Rating|User-ID-numeric|ISBN-numeric|\n",
      "+-------+----------+-----------+---------------+------------+\n",
      "|      2|0195153448|          0|        69494.0|    160911.0|\n",
      "|      7| 034542252|          0|        98245.0|     93830.0|\n",
      "|      8|0002005018|          5|         7987.0|     10774.0|\n",
      "|      8|0060973129|          0|         7987.0|     58687.0|\n",
      "|      8|0374157065|          0|         7987.0|     14866.0|\n",
      "+-------+----------+-----------+---------------+------------+\n",
      "only showing top 5 rows\n",
      "\n"
     ]
    },
    {
     "name": "stderr",
     "output_type": "stream",
     "text": [
      "                                                                                \r"
     ]
    }
   ],
   "source": [
    "train_data.show(5)"
   ]
  },
  {
   "cell_type": "markdown",
   "id": "8aa6986b-434b-4e92-bbae-c72c877082da",
   "metadata": {},
   "source": [
    "class pyspark.ml.recommendation.ALS(\n",
    "rank=10,\n",
    "maxIter=10,\n",
    "regParam=0.1,\n",
    "numUserBlocks=10,\n",
    "numItemBlocks=10,\n",
    "implicitPrefs=False,\n",
    "alpha=1.0,\n",
    "userCol=\"user\",\n",
    "itemCol=\"item\",\n",
    "seed=None,\n",
    "ratingCol=\"rating\",\n",
    "nonnegative=False,\n",
    "checkpointInterval=10,\n",
    "intermediateStorageLevel=\"MEMORY_AND_DISK\",\n",
    "finalStorageLevel=\"MEMORY_AND_DISK\",\n",
    "coldStartStrategy=\"nan\",\n",
    ")"
   ]
  },
  {
   "cell_type": "code",
   "execution_count": 14,
   "id": "9c9ddf0c-4a0a-4b96-ad63-0b9e8bd8b8a5",
   "metadata": {
    "scrolled": true
   },
   "outputs": [
    {
     "name": "stderr",
     "output_type": "stream",
     "text": [
      "24/11/05 19:58:36 WARN DAGScheduler: Broadcasting large task binary with size 13.7 MiB\n",
      "24/11/05 19:58:37 WARN DAGScheduler: Broadcasting large task binary with size 13.7 MiB\n",
      "24/11/05 19:58:39 WARN DAGScheduler: Broadcasting large task binary with size 13.7 MiB\n",
      "24/11/05 19:58:42 WARN DAGScheduler: Broadcasting large task binary with size 13.7 MiB\n",
      "24/11/05 19:58:45 WARN DAGScheduler: Broadcasting large task binary with size 13.7 MiB\n",
      "24/11/05 19:58:46 WARN DAGScheduler: Broadcasting large task binary with size 13.7 MiB\n",
      "24/11/05 19:58:48 WARN DAGScheduler: Broadcasting large task binary with size 13.7 MiB\n",
      "24/11/05 19:58:48 WARN InstanceBuilder: Failed to load implementation from:dev.ludovic.netlib.blas.JNIBLAS\n",
      "24/11/05 19:58:48 WARN InstanceBuilder: Failed to load implementation from:dev.ludovic.netlib.blas.VectorBLAS\n",
      "24/11/05 19:58:49 WARN DAGScheduler: Broadcasting large task binary with size 13.7 MiB\n",
      "24/11/05 19:58:51 WARN DAGScheduler: Broadcasting large task binary with size 13.7 MiB\n",
      "24/11/05 19:58:52 WARN DAGScheduler: Broadcasting large task binary with size 13.7 MiB\n",
      "24/11/05 19:58:54 WARN DAGScheduler: Broadcasting large task binary with size 13.7 MiB\n",
      "24/11/05 19:58:55 WARN DAGScheduler: Broadcasting large task binary with size 13.7 MiB\n",
      "24/11/05 19:58:56 WARN DAGScheduler: Broadcasting large task binary with size 13.7 MiB\n",
      "24/11/05 19:58:58 WARN DAGScheduler: Broadcasting large task binary with size 13.7 MiB\n",
      "24/11/05 19:58:59 WARN DAGScheduler: Broadcasting large task binary with size 13.7 MiB\n",
      "24/11/05 19:59:01 WARN DAGScheduler: Broadcasting large task binary with size 13.7 MiB\n",
      "24/11/05 19:59:02 WARN DAGScheduler: Broadcasting large task binary with size 13.7 MiB\n",
      "24/11/05 19:59:03 WARN DAGScheduler: Broadcasting large task binary with size 13.7 MiB\n",
      "24/11/05 19:59:05 WARN DAGScheduler: Broadcasting large task binary with size 13.7 MiB\n",
      "24/11/05 19:59:06 WARN DAGScheduler: Broadcasting large task binary with size 13.7 MiB\n",
      "24/11/05 19:59:08 WARN DAGScheduler: Broadcasting large task binary with size 13.7 MiB\n",
      "24/11/05 19:59:09 WARN DAGScheduler: Broadcasting large task binary with size 13.7 MiB\n",
      "24/11/05 19:59:10 WARN DAGScheduler: Broadcasting large task binary with size 13.7 MiB\n",
      "24/11/05 19:59:11 WARN DAGScheduler: Broadcasting large task binary with size 13.7 MiB\n",
      "24/11/05 19:59:13 WARN DAGScheduler: Broadcasting large task binary with size 13.7 MiB\n",
      "24/11/05 19:59:14 WARN DAGScheduler: Broadcasting large task binary with size 13.7 MiB\n",
      "24/11/05 19:59:15 WARN DAGScheduler: Broadcasting large task binary with size 13.7 MiB\n",
      "24/11/05 19:59:16 WARN DAGScheduler: Broadcasting large task binary with size 13.7 MiB\n",
      "                                                                                \r"
     ]
    }
   ],
   "source": [
    "als=ALS(maxIter=10,regParam=0.1, userCol=\"User-ID-numeric\",itemCol=\"ISBN-numeric\",ratingCol=\"Book-Rating\",coldStartStrategy=\"drop\", nonnegative=True)\n",
    "model=als.fit(train_data)"
   ]
  },
  {
   "cell_type": "markdown",
   "id": "d0b76050-b42e-4079-9770-1bca73bb234c",
   "metadata": {},
   "source": [
    "4) Implement code to evaluate the performance of the recommendation model using appropriate metrics."
   ]
  },
  {
   "cell_type": "code",
   "execution_count": 16,
   "id": "d61f6ee0-601d-4c52-95ed-3e0842181ead",
   "metadata": {
    "scrolled": true
   },
   "outputs": [
    {
     "name": "stderr",
     "output_type": "stream",
     "text": [
      "24/11/05 19:59:22 WARN DAGScheduler: Broadcasting large task binary with size 13.7 MiB\n",
      "24/11/05 19:59:24 WARN DAGScheduler: Broadcasting large task binary with size 13.7 MiB\n",
      "24/11/05 19:59:26 WARN DAGScheduler: Broadcasting large task binary with size 13.7 MiB\n",
      "24/11/05 19:59:29 WARN DAGScheduler: Broadcasting large task binary with size 5.1 MiB\n",
      "24/11/05 19:59:31 WARN DAGScheduler: Broadcasting large task binary with size 13.8 MiB\n"
     ]
    },
    {
     "name": "stdout",
     "output_type": "stream",
     "text": [
      "+-------+----------+-----------+---------------+------------+----------+\n",
      "|User-ID|      ISBN|Book-Rating|User-ID-numeric|ISBN-numeric|prediction|\n",
      "+-------+----------+-----------+---------------+------------+----------+\n",
      "|  26374|0446605239|          5|        18896.0|        26.0| 3.8595567|\n",
      "| 278543|0446605239|          5|        21939.0|        26.0|       0.0|\n",
      "|  36606|0446605239|         10|           43.0|        26.0|0.82669485|\n",
      "|  24186|0446605239|          0|         2278.0|        26.0|  4.480584|\n",
      "|   6772|0446605239|          5|         2490.0|        26.0|  3.222149|\n",
      "|   3460|0446605239|          6|        42910.0|        26.0|       0.0|\n",
      "|  33319|0446605239|          0|         1767.0|        26.0|0.95971084|\n",
      "|  31040|0446605239|          0|         1472.0|        26.0|0.50545466|\n",
      "|  16718|0446605239|          9|         2302.0|        26.0|  8.603321|\n",
      "|  11676|0446605239|          6|            0.0|        26.0| 2.2041748|\n",
      "|  30898|0446605239|          4|         1929.0|        26.0|  2.231989|\n",
      "|  40889|0446605239|          0|          385.0|        26.0|  1.843986|\n",
      "|  51350|0446605239|          8|          602.0|        26.0| 2.0203578|\n",
      "|  76942|0446605239|          0|          330.0|        26.0| 1.6808109|\n",
      "|  46398|0446605239|          4|          206.0|        26.0| 2.9234846|\n",
      "|  71490|0446605239|          7|         3978.0|        26.0|  3.470856|\n",
      "|  71470|0446605239|          0|         1357.0|        26.0|  2.811236|\n",
      "|  41841|0446605239|          3|          461.0|        26.0| 1.7930218|\n",
      "|  76352|0446605239|          0|            7.0|        26.0|0.98196596|\n",
      "|  62895|0446605239|          0|          558.0|        26.0| 1.9290681|\n",
      "+-------+----------+-----------+---------------+------------+----------+\n",
      "only showing top 20 rows\n",
      "\n"
     ]
    },
    {
     "name": "stderr",
     "output_type": "stream",
     "text": [
      "                                                                                \r"
     ]
    }
   ],
   "source": [
    "predictions=model.transform(test_data)\n",
    "predictions.show()"
   ]
  },
  {
   "cell_type": "markdown",
   "id": "e692a2c8-56fc-4f83-9862-258bb3595fb7",
   "metadata": {},
   "source": [
    "Evaluation"
   ]
  },
  {
   "cell_type": "code",
   "execution_count": 18,
   "id": "255cb2c8-ed43-42f3-82e8-3e64a8c309af",
   "metadata": {
    "scrolled": true
   },
   "outputs": [
    {
     "name": "stderr",
     "output_type": "stream",
     "text": [
      "24/11/05 19:59:31 WARN DAGScheduler: Broadcasting large task binary with size 13.7 MiB\n",
      "24/11/05 19:59:32 WARN DAGScheduler: Broadcasting large task binary with size 13.7 MiB\n",
      "24/11/05 19:59:33 WARN DAGScheduler: Broadcasting large task binary with size 13.7 MiB\n",
      "24/11/05 19:59:37 WARN DAGScheduler: Broadcasting large task binary with size 4.3 MiB\n",
      "24/11/05 19:59:38 WARN DAGScheduler: Broadcasting large task binary with size 13.8 MiB\n",
      "24/11/05 19:59:40 WARN DAGScheduler: Broadcasting large task binary with size 13.8 MiB\n"
     ]
    },
    {
     "name": "stdout",
     "output_type": "stream",
     "text": [
      "4.021936046385591\n"
     ]
    },
    {
     "name": "stderr",
     "output_type": "stream",
     "text": [
      "                                                                                \r"
     ]
    }
   ],
   "source": [
    "from pyspark.ml.evaluation import RegressionEvaluator\n",
    "evaluator=RegressionEvaluator(metricName=\"rmse\",labelCol=\"Book-Rating\",predictionCol=\"prediction\")\n",
    "rmse=evaluator.evaluate(predictions)\n",
    "print(rmse)"
   ]
  },
  {
   "cell_type": "code",
   "execution_count": 19,
   "id": "3ee3fb07-ef3b-4b87-887d-512613cde4f1",
   "metadata": {},
   "outputs": [
    {
     "name": "stderr",
     "output_type": "stream",
     "text": [
      "24/11/05 19:59:41 WARN DAGScheduler: Broadcasting large task binary with size 13.7 MiB\n"
     ]
    },
    {
     "name": "stdout",
     "output_type": "stream",
     "text": [
      "+-------+----------+-----------+---------------+------------+\n",
      "|User-ID|      ISBN|Book-Rating|User-ID-numeric|ISBN-numeric|\n",
      "+-------+----------+-----------+---------------+------------+\n",
      "|      8|074322678X|          5|         7987.0|    234221.0|\n",
      "|      8|1552041778|          5|         7987.0|    278428.0|\n",
      "|      9|0452264464|          6|        33336.0|       247.0|\n",
      "|     16|0345402871|          9|        36526.0|       183.0|\n",
      "|     17|0553278398|          0|        16147.0|      1895.0|\n",
      "|     17|0684823802|          0|        16147.0|     17725.0|\n",
      "|     22|3404921038|          7|        24796.0|    135518.0|\n",
      "|     32|038078243X|          0|        31875.0|     19140.0|\n",
      "|     39|0553582909|          8|        32046.0|      4984.0|\n",
      "|     44|0842342702|          0|        22143.0|       488.0|\n",
      "|     69|0617683993|          6|        19443.0|    217139.0|\n",
      "|     75|0345465083|          0|        26620.0|       225.0|\n",
      "|     75|1558531025|          5|        26620.0|       898.0|\n",
      "|     85|0743403843|          0|        45354.0|     27418.0|\n",
      "|     88|0553062042|          7|       102462.0|    107339.0|\n",
      "|     92|8445071408|          7|        33397.0|      9916.0|\n",
      "|     92|8445071769|          8|        33397.0|     18278.0|\n",
      "|     99|0312261594|          8|        11191.0|      5366.0|\n",
      "|    107|0671864769|          8|        47766.0|      7850.0|\n",
      "|    109|0671521519|          5|        48211.0|     52024.0|\n",
      "+-------+----------+-----------+---------------+------------+\n",
      "only showing top 20 rows\n",
      "\n"
     ]
    },
    {
     "name": "stderr",
     "output_type": "stream",
     "text": [
      "                                                                                \r"
     ]
    }
   ],
   "source": [
    "test_data.show()"
   ]
  },
  {
   "cell_type": "code",
   "execution_count": 20,
   "id": "26241795-7f50-4575-9bc4-83abf3b937b9",
   "metadata": {},
   "outputs": [
    {
     "name": "stderr",
     "output_type": "stream",
     "text": [
      "24/11/05 19:59:41 WARN DAGScheduler: Broadcasting large task binary with size 13.7 MiB\n",
      "24/11/05 19:59:42 WARN DAGScheduler: Broadcasting large task binary with size 13.7 MiB\n",
      "24/11/05 19:59:43 WARN DAGScheduler: Broadcasting large task binary with size 13.7 MiB\n"
     ]
    },
    {
     "name": "stdout",
     "output_type": "stream",
     "text": [
      "+---------------+------------+-----------+\n",
      "|User-ID-numeric|ISBN-numeric|Book-Rating|\n",
      "+---------------+------------+-----------+\n",
      "+---------------+------------+-----------+\n",
      "\n"
     ]
    },
    {
     "name": "stderr",
     "output_type": "stream",
     "text": [
      "                                                                                \r"
     ]
    }
   ],
   "source": [
    "user1=test_data.filter(test_data['user-ID']==53).select(['User-ID-numeric','ISBN-numeric','Book-Rating'])\n",
    "user1.show()"
   ]
  },
  {
   "cell_type": "code",
   "execution_count": 21,
   "id": "cec9f152-95c2-49f3-9b93-ceecc10209ee",
   "metadata": {},
   "outputs": [
    {
     "name": "stderr",
     "output_type": "stream",
     "text": [
      "24/11/05 19:59:44 WARN DAGScheduler: Broadcasting large task binary with size 13.7 MiB\n",
      "24/11/05 19:59:45 WARN DAGScheduler: Broadcasting large task binary with size 13.7 MiB\n",
      "[Stage 186:>  (0 + 0) / 8][Stage 210:> (0 + 0) / 10][Stage 211:> (0 + 0) / 10]\r"
     ]
    },
    {
     "name": "stdout",
     "output_type": "stream",
     "text": [
      "+---------------+------------+-----------+----------+\n",
      "|User-ID-numeric|ISBN-numeric|Book-Rating|prediction|\n",
      "+---------------+------------+-----------+----------+\n",
      "+---------------+------------+-----------+----------+\n",
      "\n"
     ]
    },
    {
     "name": "stderr",
     "output_type": "stream",
     "text": [
      "24/11/05 19:59:46 WARN DAGScheduler: Broadcasting large task binary with size 13.7 MiB\n",
      "[Stage 210:=>              (1 + 8) / 10][Stage 211:>               (0 + 0) / 10]\r"
     ]
    }
   ],
   "source": [
    "recommendations = model.transform(user1) \n",
    "\n",
    "recommendations.orderBy('prediction',ascending=False).show()"
   ]
  },
  {
   "cell_type": "code",
   "execution_count": 22,
   "id": "3b535f8e-4686-4f3d-af1d-65b6dc4c4294",
   "metadata": {
    "scrolled": true
   },
   "outputs": [
    {
     "name": "stderr",
     "output_type": "stream",
     "text": [
      "24/11/05 19:59:51 WARN DAGScheduler: Broadcasting large task binary with size 13.7 MiB\n",
      "24/11/05 19:59:52 WARN DAGScheduler: Broadcasting large task binary with size 13.7 MiB\n",
      "24/11/05 19:59:53 WARN DAGScheduler: Broadcasting large task binary with size 13.7 MiB\n",
      "24/11/05 19:59:57 WARN DAGScheduler: Broadcasting large task binary with size 13.8 MiB\n",
      "24/11/05 19:59:58 WARN DAGScheduler: Broadcasting large task binary with size 13.8 MiB\n",
      "[Stage 294:========================>                                (3 + 4) / 7]\r"
     ]
    },
    {
     "name": "stdout",
     "output_type": "stream",
     "text": [
      "+----------+--------------------+----------------+-------------------+--------------------+--------------------+--------------------+--------------------+----------+\n",
      "|      ISBN|          Book-Title|     Book-Author|Year-Of-Publication|           Publisher|         Image-URL-S|         Image-URL-M|         Image-URL-L|prediction|\n",
      "+----------+--------------------+----------------+-------------------+--------------------+--------------------+--------------------+--------------------+----------+\n",
      "|0671690094|ANNE FRANK: DIARY...|      Anne Frank|               1989|              Pocket|http://images.ama...|http://images.ama...|http://images.ama...|  3.214597|\n",
      "|0316666343|The Lovely Bones:...|    Alice Sebold|               2002|       Little, Brown|http://images.ama...|http://images.ama...|http://images.ama...| 2.5179114|\n",
      "|0446603589|      Absolute Power|  David Baldacci|               1996|        Warner Books|http://images.ama...|http://images.ama...|http://images.ama...| 1.9852843|\n",
      "|0671042858|The Girl Who Love...|    Stephen King|               2000|              Pocket|http://images.ama...|http://images.ama...|http://images.ama...|    1.9054|\n",
      "|0373706898|Man From Blue Riv...|    Judith Bowen|               1996|           Harlequin|http://images.ama...|http://images.ama...|http://images.ama...| 1.8254683|\n",
      "|0316096199|    Lucky : A Memoir|    Alice Sebold|               2002|      Back Bay Books|http://images.ama...|http://images.ama...|http://images.ama...| 1.5450447|\n",
      "|0743467523|        Dreamcatcher|    Stephen King|               2003|              Pocket|http://images.ama...|http://images.ama...|http://images.ama...| 1.5062885|\n",
      "|0440223806|              COWBOY|   Joan Johnston|               2000|Dell Publishing C...|http://images.ama...|http://images.ama...|http://images.ama...| 1.4164798|\n",
      "|0345378490|               Congo|Michael Crichton|               1995|    Ballantine Books|http://images.ama...|http://images.ama...|http://images.ama...| 1.3791213|\n",
      "|0440206154|          Red Dragon|   Thomas Harris|               2000|Dell Publishing C...|http://images.ama...|http://images.ama...|http://images.ama...| 1.1655381|\n",
      "+----------+--------------------+----------------+-------------------+--------------------+--------------------+--------------------+--------------------+----------+\n",
      "\n"
     ]
    },
    {
     "name": "stderr",
     "output_type": "stream",
     "text": [
      "                                                                                \r"
     ]
    }
   ],
   "source": [
    "from pyspark.sql.functions import col\n",
    "books_df=spark.read.options(delimiter=\";\", header=True, inferSchema=True).csv(\"books.csv\")\n",
    "\n",
    "def recommend_for_user(user_id, n):\n",
    "    ratings_user = rating_df.filter(col('User-Id')==user_id)\n",
    "    #getting books where rating is still zero or zero interaction\n",
    "    pred_ratings_user = model.transform(ratings_user.filter(col('Book-Rating')==0))\n",
    "    recs_user = books_df.join(pred_ratings_user.select(['ISBN', 'prediction']), on='ISBN')\n",
    "    recs_user = recs_user.sort('prediction', ascending=False).limit(10)\n",
    "    # recs_user = recs_user.sort('prediction', ascending=False).drop('prediction').limit(10)\n",
    "    return recs_user\n",
    "recs_user = recommend_for_user(31987, 7)\n",
    "recs_user.show()"
   ]
  },
  {
   "cell_type": "code",
   "execution_count": 23,
   "id": "96d8c8b1-f77e-4d1f-96be-963a300040a4",
   "metadata": {
    "scrolled": true
   },
   "outputs": [
    {
     "name": "stdout",
     "output_type": "stream",
     "text": [
      "<class 'list'>\n",
      "[{Param(parent='ALS_51167c3da79a', name='alpha', doc='alpha for implicit preference'): 1.0,\n",
      "  Param(parent='ALS_51167c3da79a', name='maxIter', doc='max number of iterations (>= 0).'): 20,\n",
      "  Param(parent='ALS_51167c3da79a', name='regParam', doc='regularization parameter (>= 0).'): 0.05,\n",
      "  Param(parent='ALS_51167c3da79a', name='rank', doc='rank of the factorization'): 1},\n",
      " {Param(parent='ALS_51167c3da79a', name='alpha', doc='alpha for implicit preference'): 1.0,\n",
      "  Param(parent='ALS_51167c3da79a', name='maxIter', doc='max number of iterations (>= 0).'): 20,\n",
      "  Param(parent='ALS_51167c3da79a', name='regParam', doc='regularization parameter (>= 0).'): 0.05,\n",
      "  Param(parent='ALS_51167c3da79a', name='rank', doc='rank of the factorization'): 5}]\n"
     ]
    },
    {
     "name": "stderr",
     "output_type": "stream",
     "text": [
      "24/11/05 20:00:00 WARN DAGScheduler: Broadcasting large task binary with size 13.7 MiB\n",
      "24/11/05 20:00:03 WARN DAGScheduler: Broadcasting large task binary with size 13.7 MiB\n",
      "24/11/05 20:00:03 WARN DAGScheduler: Broadcasting large task binary with size 13.7 MiB\n",
      "24/11/05 20:00:05 WARN DAGScheduler: Broadcasting large task binary with size 13.7 MiB\n",
      "24/11/05 20:00:06 WARN DAGScheduler: Broadcasting large task binary with size 13.7 MiB\n",
      "24/11/05 20:00:08 WARN DAGScheduler: Broadcasting large task binary with size 13.7 MiB\n",
      "24/11/05 20:00:09 WARN DAGScheduler: Broadcasting large task binary with size 13.7 MiB\n",
      "24/11/05 20:00:11 WARN DAGScheduler: Broadcasting large task binary with size 13.7 MiB\n",
      "24/11/05 20:00:13 WARN DAGScheduler: Broadcasting large task binary with size 13.7 MiB\n",
      "24/11/05 20:00:14 WARN DAGScheduler: Broadcasting large task binary with size 13.7 MiB\n",
      "24/11/05 20:00:15 WARN DAGScheduler: Broadcasting large task binary with size 13.7 MiB\n",
      "24/11/05 20:00:17 WARN DAGScheduler: Broadcasting large task binary with size 13.7 MiB\n",
      "24/11/05 20:00:18 WARN DAGScheduler: Broadcasting large task binary with size 13.7 MiB\n",
      "24/11/05 20:00:19 WARN DAGScheduler: Broadcasting large task binary with size 13.7 MiB\n",
      "24/11/05 20:00:20 WARN DAGScheduler: Broadcasting large task binary with size 13.7 MiB\n",
      "24/11/05 20:00:21 WARN DAGScheduler: Broadcasting large task binary with size 13.7 MiB\n",
      "24/11/05 20:00:22 WARN DAGScheduler: Broadcasting large task binary with size 13.7 MiB\n",
      "24/11/05 20:00:24 WARN DAGScheduler: Broadcasting large task binary with size 13.7 MiB\n",
      "24/11/05 20:00:25 WARN DAGScheduler: Broadcasting large task binary with size 13.7 MiB\n",
      "24/11/05 20:00:26 WARN DAGScheduler: Broadcasting large task binary with size 13.7 MiB\n",
      "24/11/05 20:00:27 WARN DAGScheduler: Broadcasting large task binary with size 13.7 MiB\n",
      "24/11/05 20:00:29 WARN DAGScheduler: Broadcasting large task binary with size 13.7 MiB\n",
      "24/11/05 20:00:30 WARN DAGScheduler: Broadcasting large task binary with size 13.7 MiB\n",
      "24/11/05 20:00:31 WARN DAGScheduler: Broadcasting large task binary with size 13.7 MiB\n",
      "24/11/05 20:00:32 WARN DAGScheduler: Broadcasting large task binary with size 13.7 MiB\n",
      "24/11/05 20:00:34 WARN DAGScheduler: Broadcasting large task binary with size 13.7 MiB\n",
      "24/11/05 20:00:35 WARN DAGScheduler: Broadcasting large task binary with size 13.7 MiB\n",
      "24/11/05 20:00:36 WARN DAGScheduler: Broadcasting large task binary with size 13.7 MiB\n",
      "24/11/05 20:00:37 WARN DAGScheduler: Broadcasting large task binary with size 13.7 MiB\n",
      "24/11/05 20:00:39 WARN DAGScheduler: Broadcasting large task binary with size 13.7 MiB\n",
      "24/11/05 20:00:40 WARN DAGScheduler: Broadcasting large task binary with size 13.7 MiB\n",
      "24/11/05 20:00:41 WARN DAGScheduler: Broadcasting large task binary with size 13.7 MiB\n",
      "24/11/05 20:00:42 WARN DAGScheduler: Broadcasting large task binary with size 13.7 MiB\n",
      "24/11/05 20:00:44 WARN DAGScheduler: Broadcasting large task binary with size 13.7 MiB\n",
      "24/11/05 20:00:45 WARN DAGScheduler: Broadcasting large task binary with size 13.7 MiB\n",
      "24/11/05 20:00:46 WARN DAGScheduler: Broadcasting large task binary with size 13.7 MiB\n",
      "24/11/05 20:00:48 WARN DAGScheduler: Broadcasting large task binary with size 13.7 MiB\n",
      "24/11/05 20:00:49 WARN DAGScheduler: Broadcasting large task binary with size 13.7 MiB\n",
      "24/11/05 20:00:50 WARN DAGScheduler: Broadcasting large task binary with size 13.8 MiB\n",
      "24/11/05 20:00:51 WARN DAGScheduler: Broadcasting large task binary with size 13.8 MiB\n",
      "24/11/05 20:00:53 WARN DAGScheduler: Broadcasting large task binary with size 13.8 MiB\n",
      "24/11/05 20:00:54 WARN DAGScheduler: Broadcasting large task binary with size 13.8 MiB\n",
      "24/11/05 20:00:55 WARN DAGScheduler: Broadcasting large task binary with size 13.8 MiB\n",
      "24/11/05 20:00:56 WARN DAGScheduler: Broadcasting large task binary with size 13.8 MiB\n",
      "24/11/05 20:00:57 WARN DAGScheduler: Broadcasting large task binary with size 13.8 MiB\n",
      "24/11/05 20:00:59 WARN DAGScheduler: Broadcasting large task binary with size 13.8 MiB\n",
      "24/11/05 20:01:00 WARN DAGScheduler: Broadcasting large task binary with size 13.8 MiB\n",
      "24/11/05 20:01:01 WARN DAGScheduler: Broadcasting large task binary with size 13.8 MiB\n",
      "24/11/05 20:01:02 WARN DAGScheduler: Broadcasting large task binary with size 13.8 MiB\n",
      "24/11/05 20:01:04 WARN DAGScheduler: Broadcasting large task binary with size 13.7 MiB\n",
      "24/11/05 20:01:05 WARN DAGScheduler: Broadcasting large task binary with size 13.8 MiB\n",
      "24/11/05 20:01:06 WARN DAGScheduler: Broadcasting large task binary with size 13.8 MiB\n",
      "24/11/05 20:01:08 WARN DAGScheduler: Broadcasting large task binary with size 13.7 MiB\n",
      "24/11/05 20:01:10 WARN DAGScheduler: Broadcasting large task binary with size 13.8 MiB\n",
      "24/11/05 20:01:12 WARN DAGScheduler: Broadcasting large task binary with size 13.7 MiB\n",
      "24/11/05 20:01:12 WARN DAGScheduler: Broadcasting large task binary with size 13.7 MiB\n",
      "24/11/05 20:01:13 WARN DAGScheduler: Broadcasting large task binary with size 13.7 MiB\n",
      "24/11/05 20:01:14 WARN DAGScheduler: Broadcasting large task binary with size 13.7 MiB\n",
      "24/11/05 20:01:16 WARN DAGScheduler: Broadcasting large task binary with size 13.7 MiB\n",
      "24/11/05 20:01:17 WARN DAGScheduler: Broadcasting large task binary with size 13.7 MiB\n",
      "24/11/05 20:01:18 WARN DAGScheduler: Broadcasting large task binary with size 13.7 MiB\n",
      "24/11/05 20:01:19 WARN DAGScheduler: Broadcasting large task binary with size 13.7 MiB\n",
      "24/11/05 20:01:21 WARN DAGScheduler: Broadcasting large task binary with size 13.7 MiB\n",
      "24/11/05 20:01:22 WARN DAGScheduler: Broadcasting large task binary with size 13.7 MiB\n",
      "24/11/05 20:01:23 WARN DAGScheduler: Broadcasting large task binary with size 13.7 MiB\n",
      "24/11/05 20:01:25 WARN DAGScheduler: Broadcasting large task binary with size 13.7 MiB\n",
      "24/11/05 20:01:26 WARN DAGScheduler: Broadcasting large task binary with size 13.7 MiB\n",
      "24/11/05 20:01:27 WARN DAGScheduler: Broadcasting large task binary with size 13.7 MiB\n",
      "24/11/05 20:01:28 WARN DAGScheduler: Broadcasting large task binary with size 13.7 MiB\n",
      "24/11/05 20:01:30 WARN DAGScheduler: Broadcasting large task binary with size 13.7 MiB\n",
      "24/11/05 20:01:31 WARN DAGScheduler: Broadcasting large task binary with size 13.7 MiB\n",
      "24/11/05 20:01:32 WARN DAGScheduler: Broadcasting large task binary with size 13.7 MiB\n",
      "24/11/05 20:01:33 WARN DAGScheduler: Broadcasting large task binary with size 13.7 MiB\n",
      "24/11/05 20:01:35 WARN DAGScheduler: Broadcasting large task binary with size 13.7 MiB\n",
      "24/11/05 20:01:36 WARN DAGScheduler: Broadcasting large task binary with size 13.7 MiB\n",
      "24/11/05 20:01:38 WARN DAGScheduler: Broadcasting large task binary with size 13.7 MiB\n",
      "24/11/05 20:01:40 WARN DAGScheduler: Broadcasting large task binary with size 13.7 MiB\n",
      "24/11/05 20:01:41 WARN DAGScheduler: Broadcasting large task binary with size 13.7 MiB\n",
      "24/11/05 20:01:42 WARN DAGScheduler: Broadcasting large task binary with size 13.7 MiB\n",
      "24/11/05 20:01:43 WARN DAGScheduler: Broadcasting large task binary with size 13.7 MiB\n",
      "24/11/05 20:01:45 WARN DAGScheduler: Broadcasting large task binary with size 13.7 MiB\n",
      "24/11/05 20:01:46 WARN DAGScheduler: Broadcasting large task binary with size 13.7 MiB\n",
      "24/11/05 20:01:47 WARN DAGScheduler: Broadcasting large task binary with size 13.7 MiB\n",
      "24/11/05 20:01:49 WARN DAGScheduler: Broadcasting large task binary with size 13.7 MiB\n",
      "24/11/05 20:01:50 WARN DAGScheduler: Broadcasting large task binary with size 13.7 MiB\n",
      "24/11/05 20:01:51 WARN DAGScheduler: Broadcasting large task binary with size 13.7 MiB\n",
      "24/11/05 20:01:52 WARN DAGScheduler: Broadcasting large task binary with size 13.7 MiB\n",
      "24/11/05 20:01:54 WARN DAGScheduler: Broadcasting large task binary with size 13.7 MiB\n",
      "24/11/05 20:01:55 WARN DAGScheduler: Broadcasting large task binary with size 13.7 MiB\n",
      "24/11/05 20:01:56 WARN DAGScheduler: Broadcasting large task binary with size 13.7 MiB\n",
      "24/11/05 20:01:58 WARN DAGScheduler: Broadcasting large task binary with size 13.7 MiB\n",
      "24/11/05 20:01:59 WARN DAGScheduler: Broadcasting large task binary with size 13.8 MiB\n",
      "24/11/05 20:02:00 WARN DAGScheduler: Broadcasting large task binary with size 13.8 MiB\n",
      "24/11/05 20:02:02 WARN DAGScheduler: Broadcasting large task binary with size 13.8 MiB\n",
      "24/11/05 20:02:03 WARN DAGScheduler: Broadcasting large task binary with size 13.8 MiB\n",
      "24/11/05 20:02:04 WARN DAGScheduler: Broadcasting large task binary with size 13.8 MiB\n",
      "24/11/05 20:02:06 WARN DAGScheduler: Broadcasting large task binary with size 13.8 MiB\n",
      "24/11/05 20:02:07 WARN DAGScheduler: Broadcasting large task binary with size 13.8 MiB\n",
      "24/11/05 20:02:09 WARN DAGScheduler: Broadcasting large task binary with size 13.8 MiB\n",
      "24/11/05 20:02:10 WARN DAGScheduler: Broadcasting large task binary with size 13.8 MiB\n",
      "24/11/05 20:02:12 WARN DAGScheduler: Broadcasting large task binary with size 13.8 MiB\n",
      "24/11/05 20:02:13 WARN DAGScheduler: Broadcasting large task binary with size 13.8 MiB\n",
      "24/11/05 20:02:15 WARN DAGScheduler: Broadcasting large task binary with size 13.8 MiB\n",
      "24/11/05 20:02:16 WARN DAGScheduler: Broadcasting large task binary with size 13.8 MiB\n",
      "24/11/05 20:02:17 WARN DAGScheduler: Broadcasting large task binary with size 13.7 MiB\n",
      "24/11/05 20:02:19 WARN DAGScheduler: Broadcasting large task binary with size 4.3 MiB\n",
      "24/11/05 20:02:20 WARN DAGScheduler: Broadcasting large task binary with size 13.8 MiB\n",
      "24/11/05 20:02:21 WARN DAGScheduler: Broadcasting large task binary with size 13.8 MiB\n",
      "24/11/05 20:02:22 WARN DAGScheduler: Broadcasting large task binary with size 13.7 MiB\n",
      "24/11/05 20:02:25 WARN DAGScheduler: Broadcasting large task binary with size 13.7 MiB\n",
      "24/11/05 20:02:25 WARN DAGScheduler: Broadcasting large task binary with size 13.7 MiB\n",
      "24/11/05 20:02:27 WARN DAGScheduler: Broadcasting large task binary with size 13.7 MiB\n",
      "24/11/05 20:02:29 WARN DAGScheduler: Broadcasting large task binary with size 13.7 MiB\n",
      "24/11/05 20:02:31 WARN DAGScheduler: Broadcasting large task binary with size 13.7 MiB\n",
      "24/11/05 20:02:32 WARN DAGScheduler: Broadcasting large task binary with size 13.7 MiB\n",
      "24/11/05 20:02:34 WARN DAGScheduler: Broadcasting large task binary with size 13.7 MiB\n",
      "24/11/05 20:02:35 WARN DAGScheduler: Broadcasting large task binary with size 13.7 MiB\n",
      "24/11/05 20:02:37 WARN DAGScheduler: Broadcasting large task binary with size 13.7 MiB\n",
      "24/11/05 20:02:38 WARN DAGScheduler: Broadcasting large task binary with size 13.7 MiB\n",
      "24/11/05 20:02:39 WARN DAGScheduler: Broadcasting large task binary with size 13.7 MiB\n",
      "24/11/05 20:02:40 WARN DAGScheduler: Broadcasting large task binary with size 13.7 MiB\n",
      "24/11/05 20:02:42 WARN DAGScheduler: Broadcasting large task binary with size 13.7 MiB\n",
      "24/11/05 20:02:43 WARN DAGScheduler: Broadcasting large task binary with size 13.7 MiB\n",
      "24/11/05 20:02:44 WARN DAGScheduler: Broadcasting large task binary with size 13.7 MiB\n",
      "24/11/05 20:02:45 WARN DAGScheduler: Broadcasting large task binary with size 13.7 MiB\n",
      "24/11/05 20:02:46 WARN DAGScheduler: Broadcasting large task binary with size 13.7 MiB\n",
      "24/11/05 20:02:48 WARN DAGScheduler: Broadcasting large task binary with size 13.7 MiB\n",
      "24/11/05 20:02:49 WARN DAGScheduler: Broadcasting large task binary with size 13.7 MiB\n",
      "24/11/05 20:02:51 WARN DAGScheduler: Broadcasting large task binary with size 13.7 MiB\n",
      "24/11/05 20:02:52 WARN DAGScheduler: Broadcasting large task binary with size 13.7 MiB\n",
      "24/11/05 20:02:54 WARN DAGScheduler: Broadcasting large task binary with size 13.7 MiB\n",
      "24/11/05 20:02:55 WARN DAGScheduler: Broadcasting large task binary with size 13.7 MiB\n",
      "24/11/05 20:02:56 WARN DAGScheduler: Broadcasting large task binary with size 13.7 MiB\n",
      "24/11/05 20:02:57 WARN DAGScheduler: Broadcasting large task binary with size 13.7 MiB\n",
      "24/11/05 20:02:59 WARN DAGScheduler: Broadcasting large task binary with size 13.7 MiB\n",
      "24/11/05 20:03:00 WARN DAGScheduler: Broadcasting large task binary with size 13.7 MiB\n",
      "24/11/05 20:03:02 WARN DAGScheduler: Broadcasting large task binary with size 13.7 MiB\n",
      "24/11/05 20:03:04 WARN DAGScheduler: Broadcasting large task binary with size 13.7 MiB\n",
      "24/11/05 20:03:05 WARN DAGScheduler: Broadcasting large task binary with size 13.7 MiB\n",
      "24/11/05 20:03:07 WARN DAGScheduler: Broadcasting large task binary with size 13.7 MiB\n",
      "24/11/05 20:03:08 WARN DAGScheduler: Broadcasting large task binary with size 13.7 MiB\n",
      "24/11/05 20:03:10 WARN DAGScheduler: Broadcasting large task binary with size 13.7 MiB\n",
      "24/11/05 20:03:11 WARN DAGScheduler: Broadcasting large task binary with size 13.7 MiB\n",
      "24/11/05 20:03:12 WARN DAGScheduler: Broadcasting large task binary with size 13.7 MiB\n",
      "24/11/05 20:03:13 WARN DAGScheduler: Broadcasting large task binary with size 13.7 MiB\n",
      "24/11/05 20:03:14 WARN DAGScheduler: Broadcasting large task binary with size 13.7 MiB\n",
      "24/11/05 20:03:16 WARN DAGScheduler: Broadcasting large task binary with size 13.8 MiB\n",
      "24/11/05 20:03:17 WARN DAGScheduler: Broadcasting large task binary with size 13.8 MiB\n",
      "24/11/05 20:03:18 WARN DAGScheduler: Broadcasting large task binary with size 13.8 MiB\n",
      "24/11/05 20:03:19 WARN DAGScheduler: Broadcasting large task binary with size 13.8 MiB\n",
      "24/11/05 20:03:20 WARN DAGScheduler: Broadcasting large task binary with size 13.8 MiB\n",
      "24/11/05 20:03:21 WARN DAGScheduler: Broadcasting large task binary with size 13.8 MiB\n",
      "24/11/05 20:03:23 WARN DAGScheduler: Broadcasting large task binary with size 13.8 MiB\n",
      "24/11/05 20:03:24 WARN DAGScheduler: Broadcasting large task binary with size 13.8 MiB\n",
      "24/11/05 20:03:25 WARN DAGScheduler: Broadcasting large task binary with size 13.8 MiB\n",
      "24/11/05 20:03:26 WARN DAGScheduler: Broadcasting large task binary with size 13.8 MiB\n",
      "24/11/05 20:03:27 WARN DAGScheduler: Broadcasting large task binary with size 13.8 MiB\n",
      "24/11/05 20:03:29 WARN DAGScheduler: Broadcasting large task binary with size 13.7 MiB\n",
      "24/11/05 20:03:30 WARN DAGScheduler: Broadcasting large task binary with size 13.8 MiB\n",
      "24/11/05 20:03:31 WARN DAGScheduler: Broadcasting large task binary with size 13.8 MiB\n",
      "24/11/05 20:03:32 WARN DAGScheduler: Broadcasting large task binary with size 13.7 MiB\n",
      "24/11/05 20:03:35 WARN DAGScheduler: Broadcasting large task binary with size 13.8 MiB\n",
      "24/11/05 20:03:36 WARN DAGScheduler: Broadcasting large task binary with size 13.7 MiB\n",
      "24/11/05 20:03:37 WARN DAGScheduler: Broadcasting large task binary with size 13.7 MiB\n",
      "24/11/05 20:03:38 WARN DAGScheduler: Broadcasting large task binary with size 13.7 MiB\n",
      "24/11/05 20:03:39 WARN DAGScheduler: Broadcasting large task binary with size 13.7 MiB\n",
      "24/11/05 20:03:40 WARN DAGScheduler: Broadcasting large task binary with size 13.7 MiB\n",
      "24/11/05 20:03:41 WARN DAGScheduler: Broadcasting large task binary with size 13.7 MiB\n",
      "24/11/05 20:03:44 WARN DAGScheduler: Broadcasting large task binary with size 13.7 MiB\n",
      "24/11/05 20:03:46 WARN DAGScheduler: Broadcasting large task binary with size 13.7 MiB\n",
      "24/11/05 20:03:48 WARN DAGScheduler: Broadcasting large task binary with size 13.7 MiB\n",
      "24/11/05 20:03:49 WARN DAGScheduler: Broadcasting large task binary with size 13.7 MiB\n",
      "24/11/05 20:03:51 WARN DAGScheduler: Broadcasting large task binary with size 13.7 MiB\n",
      "24/11/05 20:03:52 WARN DAGScheduler: Broadcasting large task binary with size 13.7 MiB\n",
      "24/11/05 20:03:54 WARN DAGScheduler: Broadcasting large task binary with size 13.7 MiB\n",
      "24/11/05 20:03:55 WARN DAGScheduler: Broadcasting large task binary with size 13.7 MiB\n",
      "24/11/05 20:03:57 WARN DAGScheduler: Broadcasting large task binary with size 13.7 MiB\n",
      "24/11/05 20:03:58 WARN DAGScheduler: Broadcasting large task binary with size 13.7 MiB\n",
      "24/11/05 20:04:00 WARN DAGScheduler: Broadcasting large task binary with size 13.7 MiB\n",
      "24/11/05 20:04:01 WARN DAGScheduler: Broadcasting large task binary with size 13.7 MiB\n",
      "24/11/05 20:04:02 WARN DAGScheduler: Broadcasting large task binary with size 13.7 MiB\n",
      "24/11/05 20:04:04 WARN DAGScheduler: Broadcasting large task binary with size 13.7 MiB\n",
      "24/11/05 20:04:06 WARN DAGScheduler: Broadcasting large task binary with size 13.7 MiB\n",
      "24/11/05 20:04:07 WARN DAGScheduler: Broadcasting large task binary with size 13.7 MiB\n",
      "24/11/05 20:04:09 WARN DAGScheduler: Broadcasting large task binary with size 13.7 MiB\n",
      "24/11/05 20:04:10 WARN DAGScheduler: Broadcasting large task binary with size 13.7 MiB\n",
      "24/11/05 20:04:12 WARN DAGScheduler: Broadcasting large task binary with size 13.7 MiB\n",
      "24/11/05 20:04:13 WARN DAGScheduler: Broadcasting large task binary with size 13.7 MiB\n",
      "24/11/05 20:04:14 WARN DAGScheduler: Broadcasting large task binary with size 13.7 MiB\n",
      "24/11/05 20:04:16 WARN DAGScheduler: Broadcasting large task binary with size 13.7 MiB\n",
      "24/11/05 20:04:17 WARN DAGScheduler: Broadcasting large task binary with size 13.7 MiB\n",
      "24/11/05 20:04:18 WARN DAGScheduler: Broadcasting large task binary with size 13.7 MiB\n",
      "24/11/05 20:04:20 WARN DAGScheduler: Broadcasting large task binary with size 13.7 MiB\n",
      "24/11/05 20:04:21 WARN DAGScheduler: Broadcasting large task binary with size 13.7 MiB\n",
      "24/11/05 20:04:23 WARN DAGScheduler: Broadcasting large task binary with size 13.7 MiB\n",
      "24/11/05 20:04:24 WARN DAGScheduler: Broadcasting large task binary with size 13.7 MiB\n",
      "24/11/05 20:04:26 WARN DAGScheduler: Broadcasting large task binary with size 13.7 MiB\n",
      "24/11/05 20:04:27 WARN DAGScheduler: Broadcasting large task binary with size 13.7 MiB\n",
      "24/11/05 20:04:28 WARN DAGScheduler: Broadcasting large task binary with size 13.7 MiB\n",
      "24/11/05 20:04:30 WARN DAGScheduler: Broadcasting large task binary with size 13.8 MiB\n",
      "24/11/05 20:04:31 WARN DAGScheduler: Broadcasting large task binary with size 13.8 MiB\n",
      "24/11/05 20:04:32 WARN DAGScheduler: Broadcasting large task binary with size 13.8 MiB\n",
      "24/11/05 20:04:33 WARN DAGScheduler: Broadcasting large task binary with size 13.8 MiB\n",
      "24/11/05 20:04:34 WARN DAGScheduler: Broadcasting large task binary with size 13.8 MiB\n",
      "24/11/05 20:04:36 WARN DAGScheduler: Broadcasting large task binary with size 13.8 MiB\n",
      "24/11/05 20:04:37 WARN DAGScheduler: Broadcasting large task binary with size 13.8 MiB\n",
      "24/11/05 20:04:39 WARN DAGScheduler: Broadcasting large task binary with size 13.8 MiB\n",
      "24/11/05 20:04:40 WARN DAGScheduler: Broadcasting large task binary with size 13.8 MiB\n",
      "24/11/05 20:04:42 WARN DAGScheduler: Broadcasting large task binary with size 13.8 MiB\n",
      "24/11/05 20:04:44 WARN DAGScheduler: Broadcasting large task binary with size 13.8 MiB\n",
      "24/11/05 20:04:45 WARN DAGScheduler: Broadcasting large task binary with size 13.8 MiB\n",
      "24/11/05 20:04:46 WARN DAGScheduler: Broadcasting large task binary with size 13.8 MiB\n",
      "24/11/05 20:04:48 WARN DAGScheduler: Broadcasting large task binary with size 13.7 MiB\n",
      "24/11/05 20:04:49 WARN DAGScheduler: Broadcasting large task binary with size 4.3 MiB\n",
      "24/11/05 20:04:50 WARN DAGScheduler: Broadcasting large task binary with size 13.8 MiB\n",
      "24/11/05 20:04:51 WARN DAGScheduler: Broadcasting large task binary with size 13.8 MiB\n",
      "24/11/05 20:04:52 WARN DAGScheduler: Broadcasting large task binary with size 13.7 MiB\n",
      "24/11/05 20:04:53 WARN DAGScheduler: Broadcasting large task binary with size 13.7 MiB\n",
      "24/11/05 20:04:54 WARN DAGScheduler: Broadcasting large task binary with size 13.7 MiB\n",
      "24/11/05 20:04:56 WARN DAGScheduler: Broadcasting large task binary with size 13.7 MiB\n",
      "24/11/05 20:04:57 WARN DAGScheduler: Broadcasting large task binary with size 13.7 MiB\n",
      "24/11/05 20:04:58 WARN DAGScheduler: Broadcasting large task binary with size 13.7 MiB\n",
      "24/11/05 20:05:00 WARN DAGScheduler: Broadcasting large task binary with size 13.7 MiB\n",
      "24/11/05 20:05:02 WARN DAGScheduler: Broadcasting large task binary with size 13.7 MiB\n",
      "24/11/05 20:05:03 WARN DAGScheduler: Broadcasting large task binary with size 13.7 MiB\n",
      "24/11/05 20:05:05 WARN DAGScheduler: Broadcasting large task binary with size 13.7 MiB\n",
      "24/11/05 20:05:06 WARN DAGScheduler: Broadcasting large task binary with size 13.7 MiB\n",
      "24/11/05 20:05:07 WARN DAGScheduler: Broadcasting large task binary with size 13.7 MiB\n",
      "24/11/05 20:05:09 WARN DAGScheduler: Broadcasting large task binary with size 13.7 MiB\n",
      "24/11/05 20:05:10 WARN DAGScheduler: Broadcasting large task binary with size 13.7 MiB\n",
      "24/11/05 20:05:11 WARN DAGScheduler: Broadcasting large task binary with size 13.7 MiB\n",
      "24/11/05 20:05:13 WARN DAGScheduler: Broadcasting large task binary with size 13.7 MiB\n",
      "24/11/05 20:05:15 WARN DAGScheduler: Broadcasting large task binary with size 13.7 MiB\n",
      "24/11/05 20:05:16 WARN DAGScheduler: Broadcasting large task binary with size 13.7 MiB\n",
      "24/11/05 20:05:18 WARN DAGScheduler: Broadcasting large task binary with size 13.7 MiB\n",
      "24/11/05 20:05:20 WARN DAGScheduler: Broadcasting large task binary with size 13.7 MiB\n",
      "24/11/05 20:05:21 WARN DAGScheduler: Broadcasting large task binary with size 13.7 MiB\n",
      "24/11/05 20:05:22 WARN DAGScheduler: Broadcasting large task binary with size 13.7 MiB\n",
      "24/11/05 20:05:23 WARN DAGScheduler: Broadcasting large task binary with size 13.7 MiB\n",
      "24/11/05 20:05:25 WARN DAGScheduler: Broadcasting large task binary with size 13.7 MiB\n",
      "24/11/05 20:05:26 WARN DAGScheduler: Broadcasting large task binary with size 13.7 MiB\n",
      "24/11/05 20:05:27 WARN DAGScheduler: Broadcasting large task binary with size 13.7 MiB\n",
      "24/11/05 20:05:29 WARN DAGScheduler: Broadcasting large task binary with size 13.7 MiB\n",
      "24/11/05 20:05:30 WARN DAGScheduler: Broadcasting large task binary with size 13.7 MiB\n",
      "24/11/05 20:05:31 WARN DAGScheduler: Broadcasting large task binary with size 13.7 MiB\n",
      "24/11/05 20:05:33 WARN DAGScheduler: Broadcasting large task binary with size 13.7 MiB\n",
      "24/11/05 20:05:34 WARN DAGScheduler: Broadcasting large task binary with size 13.7 MiB\n",
      "24/11/05 20:05:36 WARN DAGScheduler: Broadcasting large task binary with size 13.7 MiB\n",
      "24/11/05 20:05:37 WARN DAGScheduler: Broadcasting large task binary with size 13.7 MiB\n",
      "24/11/05 20:05:38 WARN DAGScheduler: Broadcasting large task binary with size 13.7 MiB\n",
      "24/11/05 20:05:40 WARN DAGScheduler: Broadcasting large task binary with size 13.7 MiB\n",
      "24/11/05 20:05:41 WARN DAGScheduler: Broadcasting large task binary with size 13.7 MiB\n",
      "24/11/05 20:05:42 WARN DAGScheduler: Broadcasting large task binary with size 13.7 MiB\n",
      "24/11/05 20:05:44 WARN DAGScheduler: Broadcasting large task binary with size 13.7 MiB\n",
      "24/11/05 20:05:45 WARN DAGScheduler: Broadcasting large task binary with size 13.7 MiB\n",
      "24/11/05 20:05:47 WARN DAGScheduler: Broadcasting large task binary with size 13.7 MiB\n",
      "24/11/05 20:05:48 WARN DAGScheduler: Broadcasting large task binary with size 13.7 MiB\n",
      "24/11/05 20:05:50 WARN DAGScheduler: Broadcasting large task binary with size 13.7 MiB\n",
      "24/11/05 20:05:52 WARN DAGScheduler: Broadcasting large task binary with size 13.7 MiB\n",
      "24/11/05 20:05:53 WARN DAGScheduler: Broadcasting large task binary with size 13.7 MiB\n",
      "24/11/05 20:05:56 WARN DAGScheduler: Broadcasting large task binary with size 13.8 MiB\n",
      "24/11/05 20:05:57 WARN DAGScheduler: Broadcasting large task binary with size 13.8 MiB\n",
      "24/11/05 20:05:59 WARN DAGScheduler: Broadcasting large task binary with size 13.8 MiB\n",
      "24/11/05 20:06:00 WARN DAGScheduler: Broadcasting large task binary with size 13.8 MiB\n",
      "24/11/05 20:06:02 WARN DAGScheduler: Broadcasting large task binary with size 13.7 MiB\n",
      "24/11/05 20:06:03 WARN DAGScheduler: Broadcasting large task binary with size 13.8 MiB\n",
      "24/11/05 20:06:04 WARN DAGScheduler: Broadcasting large task binary with size 13.8 MiB\n",
      "24/11/05 20:06:07 WARN DAGScheduler: Broadcasting large task binary with size 5.1 MiB\n",
      "24/11/05 20:06:08 WARN DAGScheduler: Broadcasting large task binary with size 13.8 MiB\n",
      "24/11/05 20:06:09 WARN DAGScheduler: Broadcasting large task binary with size 13.8 MiB\n",
      "                                                                                \r"
     ]
    },
    {
     "name": "stdout",
     "output_type": "stream",
     "text": [
      "4.261020967084558\n"
     ]
    },
    {
     "name": "stderr",
     "output_type": "stream",
     "text": [
      "24/11/05 20:06:10 WARN DAGScheduler: Broadcasting large task binary with size 13.7 MiB\n",
      "24/11/05 20:06:11 WARN DAGScheduler: Broadcasting large task binary with size 13.8 MiB\n",
      "24/11/05 20:06:12 WARN DAGScheduler: Broadcasting large task binary with size 13.8 MiB\n",
      "24/11/05 20:06:15 WARN DAGScheduler: Broadcasting large task binary with size 5.1 MiB\n",
      "[Stage 1250:==========================================>             (3 + 1) / 4]\r"
     ]
    },
    {
     "name": "stdout",
     "output_type": "stream",
     "text": [
      "+-------+----------+-----------+---------------+------------+----------+\n",
      "|User-ID|      ISBN|Book-Rating|User-ID-numeric|ISBN-numeric|prediction|\n",
      "+-------+----------+-----------+---------------+------------+----------+\n",
      "|  26374|0446605239|          5|        18896.0|        26.0|  8.179842|\n",
      "| 278543|0446605239|          5|        21939.0|        26.0|       0.0|\n",
      "|  36606|0446605239|         10|           43.0|        26.0|  1.373503|\n",
      "|  24186|0446605239|          0|         2278.0|        26.0| 6.3180075|\n",
      "|   6772|0446605239|          5|         2490.0|        26.0| 3.5577195|\n",
      "|   3460|0446605239|          6|        42910.0|        26.0|       0.0|\n",
      "|  33319|0446605239|          0|         1767.0|        26.0|  3.526819|\n",
      "|  31040|0446605239|          0|         1472.0|        26.0| 1.3223614|\n",
      "|  16718|0446605239|          9|         2302.0|        26.0|  4.323647|\n",
      "|  11676|0446605239|          6|            0.0|        26.0| 4.6647806|\n",
      "|  30898|0446605239|          4|         1929.0|        26.0| 2.9780931|\n",
      "|  40889|0446605239|          0|          385.0|        26.0| 2.6243796|\n",
      "|  51350|0446605239|          8|          602.0|        26.0| 0.4995715|\n",
      "|  76942|0446605239|          0|          330.0|        26.0| 0.5001528|\n",
      "|  46398|0446605239|          4|          206.0|        26.0| 1.7682631|\n",
      "|  71490|0446605239|          7|         3978.0|        26.0| 2.9897518|\n",
      "|  71470|0446605239|          0|         1357.0|        26.0| 3.4063203|\n",
      "|  41841|0446605239|          3|          461.0|        26.0| 0.7972599|\n",
      "|  76352|0446605239|          0|            7.0|        26.0|0.19986802|\n",
      "|  62895|0446605239|          0|          558.0|        26.0| 1.4203577|\n",
      "+-------+----------+-----------+---------------+------------+----------+\n",
      "only showing top 20 rows\n",
      "\n",
      "ALSModel: uid=ALS_51167c3da79a, rank=5\n"
     ]
    },
    {
     "name": "stderr",
     "output_type": "stream",
     "text": [
      "24/11/05 20:06:16 WARN DAGScheduler: Broadcasting large task binary with size 13.8 MiB\n",
      "                                                                                \r"
     ]
    }
   ],
   "source": [
    "from pyspark.ml.tuning import CrossValidator,  ParamGridBuilder \n",
    "parameter_grid = (\n",
    "    ParamGridBuilder()\n",
    "    .addGrid(als.rank, [1, 5])\n",
    "    .addGrid(als.maxIter, [20])\n",
    "    .addGrid(als.regParam, [0.05])\n",
    "    .addGrid(als.alpha,[1])\n",
    "    .build()\n",
    ")\n",
    "print(type(parameter_grid))\n",
    "from pprint import pprint\n",
    "pprint(parameter_grid)\n",
    "cross_validator=CrossValidator(\n",
    "    estimator=als,\n",
    "    estimatorParamMaps=parameter_grid,\n",
    "    evaluator=evaluator,\n",
    "    numFolds=2,\n",
    ")\n",
    "crossval_model=cross_validator.fit(train_data)\n",
    "predictions=crossval_model.transform(test_data)\n",
    "rmse=evaluator.evaluate(predictions.na.drop())\n",
    "print(rmse)\n",
    "predictions.show()\n",
    "model=crossval_model.bestModel\n",
    "print(model)"
   ]
  },
  {
   "cell_type": "code",
   "execution_count": 21,
   "id": "3d181365-7c22-437d-b9d4-86b99289b9e0",
   "metadata": {},
   "outputs": [
    {
     "ename": "NameError",
     "evalue": "name 'spark' is not defined",
     "output_type": "error",
     "traceback": [
      "\u001b[0;31m---------------------------------------------------------------------------\u001b[0m",
      "\u001b[0;31mNameError\u001b[0m                                 Traceback (most recent call last)",
      "Cell \u001b[0;32mIn[21], line 1\u001b[0m\n\u001b[0;32m----> 1\u001b[0m spark\u001b[38;5;241m.\u001b[39mstop()\n",
      "\u001b[0;31mNameError\u001b[0m: name 'spark' is not defined"
     ]
    }
   ],
   "source": [
    "spark.stop()"
   ]
  },
  {
   "cell_type": "code",
   "execution_count": null,
   "id": "0ea0a814-961d-4b4b-9676-40a94be68c69",
   "metadata": {},
   "outputs": [],
   "source": []
  },
  {
   "cell_type": "code",
   "execution_count": null,
   "id": "0c1c2e31-fa98-4240-a846-702eb9666f99",
   "metadata": {},
   "outputs": [],
   "source": []
  },
  {
   "cell_type": "code",
   "execution_count": null,
   "id": "84851009-c2b0-4df2-897c-e2b0df66dcc6",
   "metadata": {},
   "outputs": [],
   "source": []
  },
  {
   "cell_type": "code",
   "execution_count": null,
   "id": "8a960085-5f28-4fc3-b062-957f0ba1c69e",
   "metadata": {},
   "outputs": [],
   "source": []
  },
  {
   "cell_type": "code",
   "execution_count": null,
   "id": "dc7841e8-72de-4fa5-8c21-efdf72b848af",
   "metadata": {},
   "outputs": [],
   "source": []
  },
  {
   "cell_type": "code",
   "execution_count": null,
   "id": "e5c3e959-08ee-44c2-8c53-8818bbe6f7a5",
   "metadata": {},
   "outputs": [],
   "source": []
  },
  {
   "cell_type": "code",
   "execution_count": null,
   "id": "0f59373e-c23a-4e31-b058-dac6aa93cee4",
   "metadata": {},
   "outputs": [],
   "source": []
  }
 ],
 "metadata": {
  "kernelspec": {
   "display_name": "Python 3 (ipykernel)",
   "language": "python",
   "name": "python3"
  },
  "language_info": {
   "codemirror_mode": {
    "name": "ipython",
    "version": 3
   },
   "file_extension": ".py",
   "mimetype": "text/x-python",
   "name": "python",
   "nbconvert_exporter": "python",
   "pygments_lexer": "ipython3",
   "version": "3.12.4"
  }
 },
 "nbformat": 4,
 "nbformat_minor": 5
}
