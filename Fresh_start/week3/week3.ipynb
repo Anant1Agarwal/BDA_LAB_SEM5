{
 "cells": [
  {
   "cell_type": "markdown",
   "id": "91be0674-37ab-4f52-bd4c-72502478f5e0",
   "metadata": {},
   "source": [
    "## Q3"
   ]
  },
  {
   "cell_type": "code",
   "execution_count": 2,
   "id": "0ac4ad5a-0646-4e2c-af66-d5ec437a468f",
   "metadata": {},
   "outputs": [
    {
     "name": "stderr",
     "output_type": "stream",
     "text": [
      "24/11/06 07:45:27 WARN Utils: Your hostname, Anants-MacBook-Air.local resolves to a loopback address: 127.0.0.1; using 10.86.5.30 instead (on interface en0)\n",
      "24/11/06 07:45:27 WARN Utils: Set SPARK_LOCAL_IP if you need to bind to another address\n",
      "Setting default log level to \"WARN\".\n",
      "To adjust logging level use sc.setLogLevel(newLevel). For SparkR, use setLogLevel(newLevel).\n",
      "24/11/06 07:45:27 WARN NativeCodeLoader: Unable to load native-hadoop library for your platform... using builtin-java classes where applicable\n"
     ]
    },
    {
     "name": "stdout",
     "output_type": "stream",
     "text": [
      "Original DataFrame:\n"
     ]
    },
    {
     "name": "stderr",
     "output_type": "stream",
     "text": [
      "                                                                                \r"
     ]
    },
    {
     "name": "stdout",
     "output_type": "stream",
     "text": [
      "+---+-------------+---------------------+------------+----------------+\n",
      "|id |name         |email                |phone       |address         |\n",
      "+---+-------------+---------------------+------------+----------------+\n",
      "|1  |Alice Johnson|alice.j@example.com  |123-456-7890|123 Elm St.     |\n",
      "|2  |Alyce Jonson |alyce.j@example.com  |1234567890  |123 Elm Street  |\n",
      "|3  |Bob Smith    |bob.smith@example.com|987-654-3210|456 Maple Ave   |\n",
      "|4  |Robert Smith |rsmith@example.com   |9876543210  |456 Maple Avenue|\n",
      "+---+-------------+---------------------+------------+----------------+\n",
      "\n",
      "DataFrame with Fingerprints:\n",
      "+---+-------------+---------------------+----------+-------------+-------------------------------------+\n",
      "|id |name         |email                |phone     |address      |fingerprint                          |\n",
      "+---+-------------+---------------------+----------+-------------+-------------------------------------+\n",
      "|1  |alice johnson|alice.j@example.com  |1234567890|123 elm st.  |alice johnson_1234567890_123 elm st. |\n",
      "|2  |alyce jonson |alyce.j@example.com  |1234567890|123 elm st   |alyce jonson_1234567890_123 elm st   |\n",
      "|3  |bob smith    |bob.smith@example.com|9876543210|456 maple ave|bob smith_9876543210_456 maple ave   |\n",
      "|4  |robert smith |rsmith@example.com   |9876543210|456 maple ave|robert smith_9876543210_456 maple ave|\n",
      "+---+-------------+---------------------+----------+-------------+-------------------------------------+\n",
      "\n",
      "Potential Duplicates Based on Entity Resolution:\n",
      "+-----------+-------------+-----+\n",
      "|fingerprint|duplicate_ids|count|\n",
      "+-----------+-------------+-----+\n",
      "+-----------+-------------+-----+\n",
      "\n"
     ]
    }
   ],
   "source": [
    "from pyspark.sql import SparkSession\n",
    "from pyspark.sql.functions import lower, regexp_replace, col, trim, concat_ws\n",
    "from pyspark.sql import functions as F\n",
    "\n",
    "# Initialize Spark session\n",
    "spark = SparkSession.builder.appName(\"EntityResolutionDuplicateDetection\").getOrCreate()\n",
    "\n",
    "# Sample data simulating entities with slight variations\n",
    "data = [\n",
    "    (1, \"Alice Johnson\", \"alice.j@example.com\", \"123-456-7890\", \"123 Elm St.\"),\n",
    "    (2, \"Alyce Jonson\", \"alyce.j@example.com\", \"1234567890\", \"123 Elm Street\"),\n",
    "    (3, \"Bob Smith\", \"bob.smith@example.com\", \"987-654-3210\", \"456 Maple Ave\"),\n",
    "    (4, \"Robert Smith\", \"rsmith@example.com\", \"9876543210\", \"456 Maple Avenue\")\n",
    "]\n",
    "\n",
    "# Create a DataFrame\n",
    "df = spark.createDataFrame(data, [\"id\", \"name\", \"email\", \"phone\", \"address\"])\n",
    "\n",
    "# Display the original DataFrame\n",
    "print(\"Original DataFrame:\")\n",
    "df.show(truncate=False)\n",
    "\n",
    "# Data Cleaning and Normalization\n",
    "\n",
    "# 1. Normalize text by converting to lowercase and trimming spaces\n",
    "df = df.withColumn(\"name\", trim(lower(col(\"name\")))) \\\n",
    "       .withColumn(\"email\", trim(lower(col(\"email\")))) \\\n",
    "       .withColumn(\"address\", trim(lower(col(\"address\"))))\n",
    "\n",
    "# 2. Remove special characters in phone numbers\n",
    "df = df.withColumn(\"phone\", regexp_replace(col(\"phone\"), r\"[^0-9]\", \"\"))\n",
    "\n",
    "# 3. Standardize common address terms\n",
    "df = df.withColumn(\"address\", regexp_replace(col(\"address\"), r\"\\bstreet\\b\", \"st\")) \\\n",
    "       .withColumn(\"address\", regexp_replace(col(\"address\"), r\"\\bavenue\\b\", \"ave\"))\n",
    "\n",
    "# Concatenate fields to create a \"fingerprint\" for each record\n",
    "df = df.withColumn(\"fingerprint\", concat_ws(\"_\", col(\"name\"), col(\"phone\"), col(\"address\")))\n",
    "\n",
    "# Display the DataFrame with fingerprints\n",
    "print(\"DataFrame with Fingerprints:\")\n",
    "df.show(truncate=False)\n",
    "\n",
    "# Find duplicates based on the fingerprint\n",
    "duplicates_df = df.groupBy(\"fingerprint\") \\\n",
    "                  .agg(F.collect_list(\"id\").alias(\"duplicate_ids\"),\n",
    "                       F.count(\"id\").alias(\"count\")) \\\n",
    "                  .filter(\"count > 1\")\n",
    "\n",
    "# Display the duplicate records\n",
    "print(\"Potential Duplicates Based on Entity Resolution:\")\n",
    "duplicates_df.show(truncate=False)\n",
    "\n",
    "# Stop the Spark session\n",
    "spark.stop()\n"
   ]
  },
  {
   "cell_type": "code",
   "execution_count": null,
   "id": "a698548f-65cf-4b56-8a46-47ec7c650892",
   "metadata": {},
   "outputs": [],
   "source": []
  }
 ],
 "metadata": {
  "kernelspec": {
   "display_name": "Python 3 (ipykernel)",
   "language": "python",
   "name": "python3"
  },
  "language_info": {
   "codemirror_mode": {
    "name": "ipython",
    "version": 3
   },
   "file_extension": ".py",
   "mimetype": "text/x-python",
   "name": "python",
   "nbconvert_exporter": "python",
   "pygments_lexer": "ipython3",
   "version": "3.12.4"
  }
 },
 "nbformat": 4,
 "nbformat_minor": 5
}
